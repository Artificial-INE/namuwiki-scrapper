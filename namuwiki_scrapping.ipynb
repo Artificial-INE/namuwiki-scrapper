{
 "cells": [
  {
   "cell_type": "code",
   "execution_count": 1,
   "id": "1a46daf5-b4f5-4af2-a30a-a81dbfa295c0",
   "metadata": {},
   "outputs": [],
   "source": [
    "import datetime as dt\n",
    "import os\n",
    "import requests\n",
    "import time\n",
    "from urllib import parse\n",
    "from glob import glob\n",
    "\n",
    "import pandas as pd\n",
    "from bs4 import BeautifulSoup\n",
    "# from selenium import webdriver\n",
    "# from selenium.webdriver.common.keys import Keys\n",
    "# from selenium.webdriver.common.by import By\n",
    "from tqdm.notebook import tqdm, trange\n",
    "from markdownify import markdownify as md\n",
    "\n",
    "\n",
    "base_url = \"https://namu.wiki\"\n",
    "logging_dir = \"/home/nsw/datasets/namuwiki_scrapping_logs/\""
   ]
  },
  {
   "cell_type": "markdown",
   "id": "cf5220bd-cd97-465d-b655-ccaa60829338",
   "metadata": {},
   "source": [
    "# beautifulsoup"
   ]
  },
  {
   "cell_type": "markdown",
   "id": "f910e831-6625-4813-b2f4-a94e35e15ed0",
   "metadata": {
    "jp-MarkdownHeadingCollapsed": true
   },
   "source": [
    "## graph"
   ]
  },
  {
   "cell_type": "code",
   "execution_count": 31,
   "id": "c9742752-7943-4c1f-b4f8-306eced10f0a",
   "metadata": {},
   "outputs": [],
   "source": [
    "step = len(glob(logging_dir + \".xlsx\"))\n",
    "log_cols = [\"parents\", \"key\", \"use\"]\n",
    "graph = dict()"
   ]
  },
  {
   "cell_type": "code",
   "execution_count": 32,
   "id": "f7477466-796b-49ca-96ac-2771be898686",
   "metadata": {},
   "outputs": [],
   "source": [
    "if not os.path.isfile(logging_dir + \"result_step_00.xlsx\"):\n",
    "    pd.DataFrame([(\"root\", \"우왁굳\", 1)], columns=log_cols).to_excel(logging_dir + f\"result_step_{step:02d}.xlsx\", index=None)"
   ]
  },
  {
   "cell_type": "code",
   "execution_count": 27,
   "id": "74cf8980-fb13-4bed-839e-994960c3b44c",
   "metadata": {},
   "outputs": [],
   "source": [
    "def make_node(title: str, children: list):\n",
    "    return {\n",
    "        \"title\": title,\n",
    "        \"url\": parse.quote(base_url + title),\n",
    "        \"children\": [ch[1] for ch in children],\n",
    "    }"
   ]
  },
  {
   "cell_type": "code",
   "execution_count": 45,
   "id": "dcf19413-c029-47f6-abe5-cda589ab81a9",
   "metadata": {},
   "outputs": [
    {
     "data": {
      "application/vnd.jupyter.widget-view+json": {
       "model_id": "1471d384938b4504aa9d1ba3472a93df",
       "version_major": 2,
       "version_minor": 0
      },
      "text/plain": [
       "  0%|          | 0/101 [00:00<?, ?it/s]"
      ]
     },
     "metadata": {},
     "output_type": "display_data"
    }
   ],
   "source": [
    "key_df = pd.read_excel(logging_dir + f\"result_step_{step:02d}.xlsx\")\n",
    "for _, row in key_df.iterrows():\n",
    "    if pd.isna(row['use']):\n",
    "        graph[row['parents']]['children'].remove(row['key'])\n",
    "\n",
    "keys = key_df.dropna().key.to_list()\n",
    "\n",
    "# keys = pd.read_excel(logging_dir + f\"result_step_{step:02d}.xlsx\").key.dropna().to_list()\n",
    "step += 1\n",
    "new_keys = []\n",
    "for key in tqdm(keys):\n",
    "    if key in graph:\n",
    "        # print(key, \": continue\")\n",
    "        continue\n",
    "    soup = BeautifulSoup(requests.get(base_url + key).text, 'html.parser')\n",
    "\n",
    "    index = soup.select_one(\"div.toc-indent\")\n",
    "    if index == None:\n",
    "        children = []\n",
    "    else:\n",
    "        children = [\n",
    "            (key, parse.unquote(link.get_attribute_list(\"href\")[0].split(\"/\", 2)[-1]), 1)\n",
    "            for link in index.select(\"a.wiki-link-internal\")\n",
    "        ]\n",
    "\n",
    "    node = make_node(key, children)\n",
    "    graph[key] = node\n",
    "    # print(key, children)\n",
    "\n",
    "    new_keys += children\n",
    "\n",
    "# new_keys\n",
    "pd.DataFrame(new_keys, columns=log_cols).to_excel(logging_dir + f\"result_step_{step:02d}.xlsx\", index=None)"
   ]
  },
  {
   "cell_type": "code",
   "execution_count": 25,
   "id": "7ae50f95-403b-4c8b-8638-2e2473bb26f6",
   "metadata": {},
   "outputs": [
    {
     "data": {
      "text/plain": [
       "dict_keys(['우왁굳', '우왁굳/방송 역사', '왁두', '우왁굳/특징', '우왁굳/별명 및 밈', '우왁굳/콘텐츠', '우왁굳/플레이한 게임', '침팬치', '왁물원', '우왁굳TV', '왁카데미', '우왁굳/콘텐츠/고정 멤버', '이세계아이돌', '왁타버스 중간계', '우왁굳/논란 및 사건 사고', '우왁굳/어록', '오뱅계르크', '우왁굳/연도별 행적', '아프리카TV', '왁두/파생형', '우왁굳/콘텐츠/게임', '우왁굳/콘텐츠/비게임', '왁타버스', '고멤 놀이터', '왁물원/이세계아이돌 게시판', '왁물원/인력사무소', '우왁굳/콘텐츠/비게임/연말 공모전', '왁물원/규정', '네이버 카페', '왁물원/역사', '개복어', '노돌리', '레알마틴', '렘쨩', '로복', '무결', '조마문', '조매력', '천양', '크헐헐', '도그홀', '두칠', '바나나(인터넷 방송인)', '진호(인터넷 방송인)', '함군', '겜스터', '휘용', '고니잠', '주르르', '우왁굳/콘텐츠/고정 멤버/0기', '왁타버스 고정 멤버', '고멤 아카데미', '이세계아이돌/멤버 간 케미', '이세계아이돌/오디션', '이세계아이돌/활동', '이세계아이돌/공연 및 행사', '이세계아이돌/음반 목록', '이세계아이돌/오리지널 곡', '이세계아이돌/커버 곡', '마법소녀 이세계아이돌', '차원을 넘어 이세계아이돌', '이파리', '이세계아이돌/응원법', '이세계아이돌/굿즈', '이세계아이돌/이모티콘', '이세계아이돌/월드', '이세계아이돌/여담', '2020년 유튜버 뒷광고 사건'])"
      ]
     },
     "execution_count": 25,
     "metadata": {},
     "output_type": "execute_result"
    }
   ],
   "source": [
    "graph.keys()"
   ]
  },
  {
   "cell_type": "code",
   "execution_count": 30,
   "id": "220bc75c-2ec6-4b20-a88d-d230f54d9ec2",
   "metadata": {},
   "outputs": [
    {
     "data": {
      "text/plain": [
       "[('우왁굳/논란 및 사건 사고', 'One Hour One Life'),\n",
       " ('우왁굳/논란 및 사건 사고', '그리핑'),\n",
       " ('우왁굳/논란 및 사건 사고', '2020년 유튜버 뒷광고 사건'),\n",
       " ('우왁굳/논란 및 사건 사고', '왁타버스')]"
      ]
     },
     "execution_count": 30,
     "metadata": {},
     "output_type": "execute_result"
    }
   ],
   "source": [
    "graph['우왁굳/논란 및 사건 사고']['children']"
   ]
  },
  {
   "cell_type": "markdown",
   "id": "bb7cf0dd-1a9e-4fc2-b97a-e6c614656561",
   "metadata": {},
   "source": [
    "## Tree  "
   ]
  },
  {
   "cell_type": "code",
   "execution_count": 18,
   "id": "29357d25-27da-4d20-a331-498a41c47dae",
   "metadata": {},
   "outputs": [],
   "source": [
    "def make_tree_node(\n",
    "    title: str, \n",
    "    parents: str, \n",
    "    subcategory: list, \n",
    "    subdocs: list, \n",
    "    subform: list\n",
    "):\n",
    "    return {\n",
    "        \"title\": title,\n",
    "        \"url\": base_url + parse.quote(\"/w/분류:\" + title),\n",
    "        \"parents\": parents,\n",
    "        \"subcategory\": subcategory,\n",
    "        \"subdocs\": subdocs,\n",
    "        \"subform\": subform,\n",
    "    }"
   ]
  },
  {
   "cell_type": "code",
   "execution_count": 19,
   "id": "2b2f0869-1184-4e51-8148-adb10f8ae5d7",
   "metadata": {
    "scrolled": true
   },
   "outputs": [
    {
     "data": {
      "application/vnd.jupyter.widget-view+json": {
       "model_id": "",
       "version_major": 2,
       "version_minor": 0
      },
      "text/plain": [
       "  0%|          | 0/1 [00:00<?, ?it/s]"
      ]
     },
     "metadata": {},
     "output_type": "display_data"
    },
    {
     "name": "stdout",
     "output_type": "stream",
     "text": [
      "[('우왁굳', '왁물원'), ('우왁굳', '우왁굳/밈'), ('우왁굳', '우왁굳/콘텐츠'), ('우왁굳', '파일/우왁굳')]\n"
     ]
    },
    {
     "data": {
      "application/vnd.jupyter.widget-view+json": {
       "model_id": "",
       "version_major": 2,
       "version_minor": 0
      },
      "text/plain": [
       "  0%|          | 0/4 [00:00<?, ?it/s]"
      ]
     },
     "metadata": {},
     "output_type": "display_data"
    },
    {
     "name": "stdout",
     "output_type": "stream",
     "text": [
      "[('우왁굳/콘텐츠', '왁타버스'), ('우왁굳/콘텐츠', '우왁굳/콘텐츠/게임'), ('우왁굳/콘텐츠', '우왁굳/콘텐츠/고정 멤버'), ('파일/우왁굳', '파일/고멤 가요제'), ('파일/우왁굳', '파일/왁타버스')]\n"
     ]
    },
    {
     "data": {
      "application/vnd.jupyter.widget-view+json": {
       "model_id": "",
       "version_major": 2,
       "version_minor": 0
      },
      "text/plain": [
       "  0%|          | 0/5 [00:00<?, ?it/s]"
      ]
     },
     "metadata": {},
     "output_type": "display_data"
    },
    {
     "name": "stdout",
     "output_type": "stream",
     "text": [
      "[('왁타버스', '2023 왁타버스 뮤직 어워즈'), ('왁타버스', '고멤 가요제'), ('왁타버스', '고멤 아카데미'), ('왁타버스', '왁타버스 고정 멤버'), ('왁타버스', '왁타버스 관련 VR챗 월드'), ('왁타버스', '왁타버스 작곡캠프'), ('왁타버스', '왁타버스/오리지널 곡'), ('왁타버스', '이세계아이돌'), ('왁타버스', '파일/왁타버스'), ('우왁굳/콘텐츠/게임', '우왁굳/콘텐츠/게임/VR챗'), ('우왁굳/콘텐츠/게임', '티바로살래나'), ('우왁굳/콘텐츠/고정 멤버', '고멤 아카데미'), ('우왁굳/콘텐츠/고정 멤버', '왁타버스 고정 멤버'), ('파일/왁타버스', '파일/고멤 아카데미'), ('파일/왁타버스', '파일/왁타버스 고정 멤버'), ('파일/왁타버스', '파일/이세계아이돌')]\n"
     ]
    },
    {
     "data": {
      "application/vnd.jupyter.widget-view+json": {
       "model_id": "",
       "version_major": 2,
       "version_minor": 0
      },
      "text/plain": [
       "  0%|          | 0/16 [00:00<?, ?it/s]"
      ]
     },
     "metadata": {},
     "output_type": "display_data"
    },
    {
     "name": "stdout",
     "output_type": "stream",
     "text": [
      "[('고멤 가요제', '고멤 가요제/노래'), ('고멤 가요제', '고멤 가요제/팀'), ('고멤 가요제', '파일/고멤 가요제'), ('고멤 아카데미', '고멤 아카데미/소속 멤버'), ('고멤 아카데미', '고멤 아카데미/오리지널 곡'), ('고멤 아카데미', '파일/고멤 아카데미'), ('왁타버스 고정 멤버', '왁타버스 고정 멤버/소속 멤버'), ('왁타버스 고정 멤버', '왁타버스 고정 멤버/시즌'), ('왁타버스 고정 멤버', '왁타버스 고정 멤버/오리지널 곡'), ('왁타버스 고정 멤버', '파일/왁타버스 고정 멤버'), ('왁타버스/오리지널 곡', '고멤 아카데미/오리지널 곡'), ('왁타버스/오리지널 곡', '왁타버스 고정 멤버/오리지널 곡'), ('왁타버스/오리지널 곡', '이세계아이돌/오리지널 곡'), ('이세계아이돌', '이세계아이돌/2차 창작'), ('이세계아이돌', '고세구'), ('이세계아이돌', '이세계아이돌/공연 및 행사'), ('이세계아이돌', '둘러보기 틀/이세계아이돌'), ('이세계아이돌', '릴파'), ('이세계아이돌', '마법소녀 이세계아이돌'), ('이세계아이돌', '비챤'), ('이세계아이돌', '아이네'), ('이세계아이돌', '이세계아이돌/오리지널 곡'), ('이세계아이돌', '이세계아이돌/음반'), ('이세계아이돌', '이파리'), ('이세계아이돌', '주르르'), ('이세계아이돌', '징버거'), ('이세계아이돌', '차원을 넘어 이세계아이돌'), ('이세계아이돌', '파일/이세계아이돌'), ('우왁굳/콘텐츠/게임/VR챗', '2023 왁타버스 뮤직 어워즈'), ('우왁굳/콘텐츠/게임/VR챗', '고멤 가요제'), ('파일/이세계아이돌', '파일/고세구'), ('파일/이세계아이돌', '파일/릴파'), ('파일/이세계아이돌', '파일/비챤'), ('파일/이세계아이돌', '파일/아이네'), ('파일/이세계아이돌', '파일/주르르'), ('파일/이세계아이돌', '파일/징버거')]\n"
     ]
    },
    {
     "data": {
      "application/vnd.jupyter.widget-view+json": {
       "model_id": "",
       "version_major": 2,
       "version_minor": 0
      },
      "text/plain": [
       "  0%|          | 0/36 [00:00<?, ?it/s]"
      ]
     },
     "metadata": {},
     "output_type": "display_data"
    },
    {
     "name": "stdout",
     "output_type": "stream",
     "text": [
      "[('왁타버스 고정 멤버/오리지널 곡', '고멤 가요제/노래'), ('고세구', 'TOUR'), ('고세구', '파일/고세구'), ('이세계아이돌/공연 및 행사', 'TOUR'), ('릴파', '파일/릴파'), ('마법소녀 이세계아이돌', '마법소녀 이세계아이돌/등장인물'), ('비챤', '파일/비챤'), ('아이네', '파일/아이네'), ('주르르', '파일/주르르'), ('징버거', '파일/징버거'), ('차원을 넘어 이세계아이돌', '차원을 넘어 이세계아이돌/등장인물')]\n"
     ]
    },
    {
     "data": {
      "application/vnd.jupyter.widget-view+json": {
       "model_id": "",
       "version_major": 2,
       "version_minor": 0
      },
      "text/plain": [
       "  0%|          | 0/11 [00:00<?, ?it/s]"
      ]
     },
     "metadata": {},
     "output_type": "display_data"
    },
    {
     "name": "stdout",
     "output_type": "stream",
     "text": [
      "[]\n"
     ]
    }
   ],
   "source": [
    "tree = {}\n",
    "next_keys = [(\"root\", \"우왁굳\")]\n",
    "\n",
    "while len(next_keys) > 0:\n",
    "    keys = next_keys\n",
    "    next_keys = []\n",
    "\n",
    "    for parents, key in tqdm(keys, leave=False):\n",
    "        if key in tree:\n",
    "            continue\n",
    "        soup = BeautifulSoup(requests.get(base_url + \"/w/분류:\" + key).text, 'html.parser')\n",
    "\n",
    "        subcategory = soup.select_one(\"#category-분류\")\n",
    "        subdocs = soup.select_one(\"#category-문서\")\n",
    "        subform = soup.select_one(\"#category-틀\")\n",
    "        \n",
    "        subcategory = [] if subcategory is None else [tag.get_attribute_list(\"title\")[0].split(\":\", 1)[-1] for tag in subcategory.select(\"a\")]\n",
    "        subdocs = [] if subdocs is None else [tag.get_attribute_list(\"title\")[0] for tag in subdocs.select(\"a\")]\n",
    "        subform = [] if subform is None else [tag.get_attribute_list(\"title\")[0].split(\":\", 1)[-1] for tag in subform.select(\"a\")]\n",
    "\n",
    "        node = make_tree_node(key, parents, subcategory, subdocs, subform)\n",
    "        tree[key] = node\n",
    "        # print(key, children)\n",
    "    \n",
    "        next_keys += [(key, sc) for sc in subcategory]\n",
    "\n",
    "    print(next_keys)"
   ]
  },
  {
   "cell_type": "code",
   "execution_count": 20,
   "id": "bc518504-6cf1-4f20-b177-b6f0b10af29d",
   "metadata": {},
   "outputs": [
    {
     "data": {
      "text/plain": [
       "53"
      ]
     },
     "execution_count": 20,
     "metadata": {},
     "output_type": "execute_result"
    }
   ],
   "source": [
    "len(tree)"
   ]
  },
  {
   "cell_type": "markdown",
   "id": "8a00c3e7-f86b-4d4f-bd11-ba8d6e304ed8",
   "metadata": {},
   "source": [
    "## scrappping"
   ]
  },
  {
   "cell_type": "code",
   "execution_count": 9,
   "id": "22e351a6-fd23-4f90-8989-72f3ff68da61",
   "metadata": {},
   "outputs": [],
   "source": [
    "def set_a_href(tag):\n",
    "    for a_tag in tag.select(\"a\"):\n",
    "        if a_tag.get(\"href\") is not None and not a_tag['href'].startswith(\"#\"):\n",
    "            a_tag['href'] = parse.unquote(a_tag['href']).replace(\" \", \"%20\")\n",
    "    \n",
    "    # wiki-fn-content # 주석\n",
    "    for a_tag in tag.select(\"a.wiki-fn-content\"):\n",
    "        # print(a_tag.get(\"href\", \"#\")[1:])\n",
    "        footnote_text = footnote_dict.get(a_tag.get(\"href\", \"#\")[1:])\n",
    "        if footnote_text is not None:\n",
    "            a_tag['title'] = footnote_text\n",
    "        # print(a_tag, \"\\n\")\n",
    "        \n",
    "    # wiki-link-external # 외부링크\n",
    "    # pass\n",
    "    \n",
    "    # wiki-link-internal # 내부링크\n",
    "    for a_tag in tag.select(\"a.wiki-link-internal\"):\n",
    "        if (\n",
    "            a_tag.get(\"href\") is not None \n",
    "            and not a_tag['href'].startswith(base_url)\n",
    "        ):\n",
    "            if not a_tag['href'].startswith(\"#\"):\n",
    "                a_tag['href'] = base_url + a_tag['href']\n",
    "            else:\n",
    "                # print(a_tag['href'])\n",
    "                pass\n",
    "\n",
    "    \n",
    "    return tag"
   ]
  },
  {
   "cell_type": "code",
   "execution_count": 15,
   "id": "0d38a8a3-df31-4716-9b38-b6a6384a97ba",
   "metadata": {},
   "outputs": [],
   "source": [
    "def scrap(title: str):\n",
    "    url = base_url + \"/w/\" + title\n",
    "    soup = BeautifulSoup(requests.get(url).text, 'html.parser')\n",
    "\n",
    "    # footnote\n",
    "    footnote_dict = {\n",
    "        elm.select_one(\"span\").get(\"id\"): md(str(set_a_href(elm)))\n",
    "        for i, elm in enumerate(soup.select('.footnote-list'))\n",
    "    }\n",
    "\n",
    "    # head, content\n",
    "    heads = [set_a_href(head) for head in soup.select('.wiki-heading')]\n",
    "    contents = [set_a_href(content) for content in soup.select('.wiki-heading-content')]\n",
    "\n",
    "    docs = [\n",
    "        md(str(set_a_href(h))) + \"\\n\" + md(str(set_a_href(c))) + \"\\n\"\n",
    "        for h, c in zip(heads, contents)\n",
    "    ]\n",
    "\n",
    "    return docs"
   ]
  },
  {
   "cell_type": "code",
   "execution_count": 26,
   "id": "b7f428f9-471b-41ef-b622-923e362b7ce2",
   "metadata": {},
   "outputs": [
    {
     "data": {
      "text/plain": [
       "{'title': '우왁굳',\n",
       " 'url': 'https://namu.wiki/w/%EB%B6%84%EB%A5%98%3A%EC%9A%B0%EC%99%81%EA%B5%B3',\n",
       " 'parents': 'root',\n",
       " 'subcategory': ['왁물원', '우왁굳/밈', '우왁굳/콘텐츠', '파일/우왁굳'],\n",
       " 'subdocs': ['Hush(우왁굳)',\n",
       "  '겜스터',\n",
       "  '오히려',\n",
       "  '왁제이맥스/수록곡',\n",
       "  '왁제이맥스/업데이트 내역',\n",
       "  '왁컬로이드',\n",
       "  '왁타버스 중간계',\n",
       "  '우왁굳',\n",
       "  '우왁굳 마이너 갤러리',\n",
       "  '우왁굳/논란 및 사건 사고',\n",
       "  '우왁굳/방송 역사',\n",
       "  '우왁굳/어록',\n",
       "  '우왁굳/연도별 행적',\n",
       "  '우왁굳/연도별 행적/2022년',\n",
       "  '우왁굳/연도별 행적/2023년',\n",
       "  '우왁굳/특징',\n",
       "  '우왁굳/플레이한 게임',\n",
       "  '우왁굳TV',\n",
       "  '우왁굳의 고집',\n",
       "  '우왁굳의 고집/아이템',\n",
       "  '우왁굳즈',\n",
       "  '융터르',\n",
       "  '침팬치'],\n",
       " 'subform': ['우왁굳', '우왁굳TV']}"
      ]
     },
     "execution_count": 26,
     "metadata": {},
     "output_type": "execute_result"
    }
   ],
   "source": [
    "tree['우왁굳']"
   ]
  },
  {
   "cell_type": "code",
   "execution_count": 28,
   "id": "1aab9474-811d-427d-bec8-8522e4fde5c1",
   "metadata": {},
   "outputs": [
    {
     "name": "stdout",
     "output_type": "stream",
     "text": [
      "우왁굳\n",
      "['왁물원', '우왁굳/밈', '우왁굳/콘텐츠', '파일/우왁굳'] \n",
      "\n",
      "왁물원\n",
      "우왁굳/밈\n",
      "우왁굳/콘텐츠\n",
      "파일/우왁굳\n",
      "['왁타버스', '우왁굳/콘텐츠/게임', '우왁굳/콘텐츠/고정 멤버', '파일/고멤 가요제', '파일/왁타버스'] \n",
      "\n",
      "왁타버스\n",
      "우왁굳/콘텐츠/게임\n",
      "우왁굳/콘텐츠/고정 멤버\n",
      "파일/고멤 가요제\n",
      "파일/왁타버스\n",
      "['2023 왁타버스 뮤직 어워즈', '고멤 가요제', '고멤 아카데미', '왁타버스 고정 멤버', '왁타버스 관련 VR챗 월드', '왁타버스 작곡캠프', '왁타버스/오리지널 곡', '이세계아이돌', '파일/왁타버스', '우왁굳/콘텐츠/게임/VR챗', '티바로살래나', '고멤 아카데미', '왁타버스 고정 멤버', '파일/고멤 아카데미', '파일/왁타버스 고정 멤버', '파일/이세계아이돌'] \n",
      "\n",
      "2023 왁타버스 뮤직 어워즈\n",
      "고멤 가요제\n",
      "고멤 아카데미\n",
      "왁타버스 고정 멤버\n",
      "왁타버스 관련 VR챗 월드\n",
      "왁타버스 작곡캠프\n",
      "왁타버스/오리지널 곡\n",
      "이세계아이돌\n",
      "파일/왁타버스\n",
      "우왁굳/콘텐츠/게임/VR챗\n",
      "티바로살래나\n",
      "고멤 아카데미\n",
      "왁타버스 고정 멤버\n",
      "파일/고멤 아카데미\n",
      "파일/왁타버스 고정 멤버\n",
      "파일/이세계아이돌\n",
      "['고멤 가요제/노래', '고멤 가요제/팀', '파일/고멤 가요제', '고멤 아카데미/소속 멤버', '고멤 아카데미/오리지널 곡', '파일/고멤 아카데미', '왁타버스 고정 멤버/소속 멤버', '왁타버스 고정 멤버/시즌', '왁타버스 고정 멤버/오리지널 곡', '파일/왁타버스 고정 멤버', '고멤 아카데미/오리지널 곡', '왁타버스 고정 멤버/오리지널 곡', '이세계아이돌/오리지널 곡', '이세계아이돌/2차 창작', '고세구', '이세계아이돌/공연 및 행사', '둘러보기 틀/이세계아이돌', '릴파', '마법소녀 이세계아이돌', '비챤', '아이네', '이세계아이돌/오리지널 곡', '이세계아이돌/음반', '이파리', '주르르', '징버거', '차원을 넘어 이세계아이돌', '파일/이세계아이돌', '파일/고멤 아카데미', '파일/왁타버스 고정 멤버', '파일/이세계아이돌', '2023 왁타버스 뮤직 어워즈', '고멤 가요제', '고멤 아카데미/소속 멤버', '고멤 아카데미/오리지널 곡', '파일/고멤 아카데미', '왁타버스 고정 멤버/소속 멤버', '왁타버스 고정 멤버/시즌', '왁타버스 고정 멤버/오리지널 곡', '파일/왁타버스 고정 멤버', '파일/고세구', '파일/릴파', '파일/비챤', '파일/아이네', '파일/주르르', '파일/징버거'] \n",
      "\n",
      "고멤 가요제/노래\n",
      "고멤 가요제/팀\n",
      "파일/고멤 가요제\n",
      "고멤 아카데미/소속 멤버\n",
      "고멤 아카데미/오리지널 곡\n",
      "파일/고멤 아카데미\n",
      "왁타버스 고정 멤버/소속 멤버\n",
      "왁타버스 고정 멤버/시즌\n",
      "왁타버스 고정 멤버/오리지널 곡\n",
      "파일/왁타버스 고정 멤버\n",
      "고멤 아카데미/오리지널 곡\n",
      "왁타버스 고정 멤버/오리지널 곡\n",
      "이세계아이돌/오리지널 곡\n",
      "이세계아이돌/2차 창작\n",
      "고세구\n",
      "이세계아이돌/공연 및 행사\n",
      "둘러보기 틀/이세계아이돌\n",
      "릴파\n",
      "마법소녀 이세계아이돌\n",
      "비챤\n",
      "아이네\n",
      "이세계아이돌/오리지널 곡\n",
      "이세계아이돌/음반\n",
      "이파리\n",
      "주르르\n",
      "징버거\n",
      "차원을 넘어 이세계아이돌\n",
      "파일/이세계아이돌\n",
      "파일/고멤 아카데미\n",
      "파일/왁타버스 고정 멤버\n",
      "파일/이세계아이돌\n",
      "2023 왁타버스 뮤직 어워즈\n",
      "고멤 가요제\n",
      "고멤 아카데미/소속 멤버\n",
      "고멤 아카데미/오리지널 곡\n",
      "파일/고멤 아카데미\n",
      "왁타버스 고정 멤버/소속 멤버\n",
      "왁타버스 고정 멤버/시즌\n",
      "왁타버스 고정 멤버/오리지널 곡\n",
      "파일/왁타버스 고정 멤버\n",
      "파일/고세구\n",
      "파일/릴파\n",
      "파일/비챤\n",
      "파일/아이네\n",
      "파일/주르르\n",
      "파일/징버거\n",
      "['고멤 가요제/노래', '고멤 가요제/노래', 'TOUR', '파일/고세구', 'TOUR', '파일/릴파', '마법소녀 이세계아이돌/등장인물', '파일/비챤', '파일/아이네', '파일/주르르', '파일/징버거', '차원을 넘어 이세계아이돌/등장인물', '파일/고세구', '파일/릴파', '파일/비챤', '파일/아이네', '파일/주르르', '파일/징버거', '파일/고세구', '파일/릴파', '파일/비챤', '파일/아이네', '파일/주르르', '파일/징버거', '고멤 가요제/노래', '고멤 가요제/팀', '파일/고멤 가요제', '고멤 가요제/노래'] \n",
      "\n",
      "고멤 가요제/노래\n",
      "고멤 가요제/노래\n",
      "TOUR\n",
      "파일/고세구\n",
      "TOUR\n",
      "파일/릴파\n",
      "마법소녀 이세계아이돌/등장인물\n",
      "파일/비챤\n",
      "파일/아이네\n",
      "파일/주르르\n",
      "파일/징버거\n",
      "차원을 넘어 이세계아이돌/등장인물\n",
      "파일/고세구\n",
      "파일/릴파\n",
      "파일/비챤\n",
      "파일/아이네\n",
      "파일/주르르\n",
      "파일/징버거\n",
      "파일/고세구\n",
      "파일/릴파\n",
      "파일/비챤\n",
      "파일/아이네\n",
      "파일/주르르\n",
      "파일/징버거\n",
      "고멤 가요제/노래\n",
      "고멤 가요제/팀\n",
      "파일/고멤 가요제\n",
      "고멤 가요제/노래\n",
      "[] \n",
      "\n"
     ]
    }
   ],
   "source": [
    "docs = []\n",
    "subdocs = ['우왁굳']\n",
    "\n",
    "while len(subdocs) > 0:\n",
    "    new_subdocs = []\n",
    "    for key in subdocs:\n",
    "        print(key)\n",
    "        docs += tree[key]['subdocs']\n",
    "        new_subdocs += tree[key]['subcategory']\n",
    "    print(new_subdocs, \"\\n\")\n",
    "    subdocs = new_subdocs"
   ]
  },
  {
   "cell_type": "markdown",
   "id": "e2e61b97-a0c2-448b-bd90-f7aeab8e8ff2",
   "metadata": {},
   "source": [
    "## test"
   ]
  },
  {
   "cell_type": "code",
   "execution_count": 5,
   "id": "b51d4cd6-b1c6-4071-b7f8-b53ed05c9027",
   "metadata": {
    "scrolled": true
   },
   "outputs": [],
   "source": [
    "soup = BeautifulSoup(requests.get(base_url + \"/w/\" + '아이네').text, 'html.parser')\n",
    "# soup.select('body')"
   ]
  },
  {
   "cell_type": "markdown",
   "id": "98ea3f6c-0099-4e95-9ac6-4cc1e0e66faa",
   "metadata": {},
   "source": [
    "### footnote list"
   ]
  },
  {
   "cell_type": "code",
   "execution_count": 6,
   "id": "7fb0edf8-f819-402b-a774-4910ea754d6b",
   "metadata": {
    "scrolled": true
   },
   "outputs": [],
   "source": [
    "from markdownify import markdownify as md\n",
    "\n",
    "footnote_list = soup.select('.footnote-list')\n",
    "\n",
    "footnote_dict = {\n",
    "    elm.select_one(\"span\").get(\"id\"): md(str(set_a_href(elm)))\n",
    "    for i, elm in enumerate(footnote_list)\n",
    "}"
   ]
  },
  {
   "cell_type": "markdown",
   "id": "edc89855-0bc2-437b-8b36-8427e01735a0",
   "metadata": {},
   "source": [
    "### head, content"
   ]
  },
  {
   "cell_type": "code",
   "execution_count": 7,
   "id": "bf30b0d3-bded-4cf1-ab47-8cd05d3d941e",
   "metadata": {},
   "outputs": [
    {
     "name": "stdout",
     "output_type": "stream",
     "text": [
      "32 32\n"
     ]
    }
   ],
   "source": [
    "head = soup.select('.wiki-heading')\n",
    "content = soup.select('.wiki-heading-content')\n",
    "print(len(head), len(content))"
   ]
  },
  {
   "cell_type": "code",
   "execution_count": 11,
   "id": "a80d1bf4-69c4-4e2b-b114-620af54d2c59",
   "metadata": {
    "scrolled": true
   },
   "outputs": [
    {
     "name": "stdout",
     "output_type": "stream",
     "text": [
      "### [8.1.](#toc) 사생활 관련[[편집]](/edit/우왁굳?section=22)\n",
      "\n",
      "\n",
      "* 어릴 적에 [재믹스](https://namu.wiki/w/재믹스(게임기) \"재믹스(게임기)\")와 [슈퍼 패미컴](https://namu.wiki/w/슈퍼%20패미컴 \"슈퍼 패미컴\")을 소유하고 있었다고 한다.\n",
      "\n",
      "* 2018년 3월 방송 중 시청자들에게 부모님 집 대출금을 자신이 오늘 다 갚았다며 어머니가 좋아하셨다며 시청자들에게 감사를 표했다.\n",
      "\n",
      "* MBTI 검사를 여러 번 받았으며 매번 다른 결과가 나왔다고 한다. 내향 척도는 늘 변하지 않았다고.\n",
      "\n",
      "* 자동차를 좋아하며 그 중에서도 [BMW](https://namu.wiki/w/BMW \"BMW\")를 열렬히 좋아한다. BMW 코리아 25주년 기념으로 출시된 BMW M340i 페리도트 그린 에디션을 소유하고 있다고 밝혔다. 자동차에 관해서 다양한 지식이 있으나 자신이 좋아하는 자동차 브랜드에만 관심이 있어서 [포르쉐 919](https://namu.wiki/w/포르쉐%20919%20하이브리드 \"포르쉐 919 하이브리드\")를 [911](https://namu.wiki/w/포르쉐%20911 \"포르쉐 911\")이라고 부르거나, [아우디 스포트 콰트로](https://namu.wiki/w/아우디%20스포트%20콰트로 \"아우디 스포트 콰트로\")[[66]](#fn-66 \"[[66]](#rfn-66) 랠리 경기에 사륜구동을 정착시키고, [그룹 B](https://namu.wiki/w/그룹%20B \\\"그룹 B\\\")의 초창기를 휩쓴 전설적인 레이스카.\")에 대한 지식이 얕다.\n",
      "\n",
      "* [이니셜D](https://namu.wiki/w/이니셜D \"이니셜D\") 한정 씹덕이라고 한다. [[67]](#fn-67 \"[[67]](#rfn-67) 그렇게 주장했으나 정작 Fifth/Final/Extra Stage의 존재는 2024년 2월까지도 모르고 있었다. \")\n",
      "\n",
      "* 피곤할 때 잠들면 해괴한 신음을 내는 버릇이 있다. 그래서 엔젤의 왁트모르즈비 대리 방송 때 핀잔을 먹기도 했다.\n",
      "\n",
      "* 동아일보에서 주관하는 정치성향 테스트를 한 적이 있다. 첫 번째 문항은 모두 응답했지만 사회적 이슈에 대한 의견을 묻는 두 번째 문항에서 답변을 주저하다 결국 테스트를 중단했다. 첫 번째 문항의 우왁굳의 응답은 중도 보수에서 보수로 결과가 나온다.\n",
      "\n",
      "* 주량은 소주 1병.\n",
      "\n",
      "* 뱅갈고무나무를 키우고 있다. [#](https://youtu.be/SYB7mEpzjQ0 \"https://youtu.be/SYB7mEpzjQ0\")\n",
      "\n",
      "* 인천동산고등학교, 오사카산업대학교 출신이다 [임박사의 일본가자 2006년 입학실적](http://www.gotojapan.co.kr/results.htm \"http://www.gotojapan.co.kr/results.htm\")\n",
      "\n",
      "* 일본 유학 생활 시절에 매우 가난했다고 한다. 사용하던 노트북은 저사양 게임만 돌아갔으며 3층 2.8평 원룸에서 살았다고 한다. 심지어 창문을 열면 자동차가 지나 다니는 다리가 보였고, 보던 TV도 남이 버린 [브라운관](https://namu.wiki/w/브라운관 \"브라운관\") TV를 주운 것이라고 밝혔다.\n",
      "\n",
      "* 오사카에서 유학을 다녀서 그런지 일본어를 구사할 때 칸사이벤을 자주 사용하는 편이다. 유튜브에 돌아다니는 우왁굳의 일본어 클립에서 쉽게 확인할 수 있다.\n",
      "\n",
      "* 카톡에 아내인 엔젤의 이름을 '겅든님'으로 저장했다고 한다.\n",
      "\n",
      "* 2022년 10월 27일 [엔젤님의 인스타그램을 통해 득녀 소식을 발표](https://www.instagram.com/p/CkM9iYap5j0 \"https://www.instagram.com/p/CkM9iYap5j0\")했으며, 소식을 알렸을 당시 25주가 되어 7개월차에 접어들었다고 한다. 결혼 약 5년차에 얻은 첫 자녀. [우왁굳의 시청자들](https://namu.wiki/w/침팬치 \"침팬치\")은 우왁굳의 딸의 별명을 **'그분**'이라고 부른다.\n",
      "\n",
      "* 2023년 1월 15일 새벽 초늦뱅에서 산후 조리원과 추후 아이에게도 활용할 목적으로 [아이패드](https://namu.wiki/w/아이패드 \"아이패드\")와 [갤럭시 탭 S](https://namu.wiki/w/갤럭시%20탭%20S \"갤럭시 탭 S\") 중에서 시청자와 함께 고민하다가 [갤럭시 탭 S8 Ultra](https://namu.wiki/w/갤럭시%20탭%20S8%20Ultra \"갤럭시 탭 S8 Ultra\")를 선택하였고, [쿠팡](https://namu.wiki/w/쿠팡 \"쿠팡\")에서 구입하여 15일 저녁에 당일 배송 받은 사실을 알렸다.[[68]](#fn-68 \"[[68]](#rfn-68) 우왁굳이 실제로 한 말로, 본인은 나이가 먹어서 전혀 설레거나 하지 않을 줄 알았으나 막상 탭을 받아보니 두근대고 설레더라는 말을 하여 ㄱㅇㅇ라는 채팅이 많이 올라왔다.\")\n",
      "\n",
      "* 2023년 1월 17일 새벽 4시쯤 엔젤이 밝힌 바에 따르면 우왁굳은 삼성 휴대폰을 쓰지만 삼성 페이는 안 쓴다고 한다.\n",
      "\n",
      "* 2023년 2월 5일 오전 9시 40분경, 자신의 인스타그램 스토리를 통해 딸의 출생을 알렸다.[[사진]](#fn-사진 \"[[사진]](#rfn-69) ![왁딸](//i.namu.wiki/i/0uMgf_9DvVPAazu0oisjDizuIfInSci3i9j4cQh1raOF0SV6VX1vkql-DiBGvxqAxGHIuZNu3Mf5_1oB4rLxH0tWk4Zyn5A2ew0SBKMmcMN2KuRJTkMYSjNv1OT9j8goVyRWDRTyMwA0BlBgekflaA.webp)\")\n",
      "\n",
      "* 2023년 6월 10일 이가 깨져서 임플란트를 받았다고 한다. 10대~20대쯤에 신경치료를 받은 이가 시간이 지날수록 점차 균열이 일어나다가 삼겹살을 먹다가 깨졌다고 했다.\n",
      "\n",
      "* 피부색이 [어두운 편이다.](https://namu.wiki/w/갈색%20피부 \"갈색 피부\")\n",
      "\n",
      "\n"
     ]
    }
   ],
   "source": [
    "from markdownify import markdownify as md\n",
    "\n",
    "i = 21\n",
    "\n",
    "# for i in range(len(head)):\n",
    "#     head[i] = set_a_href(head[i])\n",
    "#     content[i] = set_a_href(content[i])\n",
    "head[i] = set_a_href(head[i])\n",
    "content[i] = set_a_href(content[i])\n",
    "\n",
    "print(md(str(head[i])))\n",
    "print(md(str(content[i])))\n",
    "\n",
    "# print(\"\\n\", \"=\" * 50, \"\\n\")\n",
    "\n",
    "# print(head[i], \"\\n\")\n",
    "# print(content[i])\n"
   ]
  },
  {
   "cell_type": "code",
   "execution_count": 8,
   "id": "00a799ee-a2af-4071-beb2-3ce15147b87a",
   "metadata": {},
   "outputs": [
    {
     "ename": "KeyError",
     "evalue": "'href'",
     "output_type": "error",
     "traceback": [
      "\u001b[0;31m---------------------------------------------------------------------------\u001b[0m",
      "\u001b[0;31mKeyError\u001b[0m                                  Traceback (most recent call last)",
      "Cell \u001b[0;32mIn[8], line 4\u001b[0m\n\u001b[1;32m      1\u001b[0m text \u001b[38;5;241m=\u001b[39m \u001b[38;5;124m\"\u001b[39m\u001b[38;5;124m\"\u001b[39m\n\u001b[1;32m      3\u001b[0m \u001b[38;5;28;01mfor\u001b[39;00m h, c \u001b[38;5;129;01min\u001b[39;00m \u001b[38;5;28mzip\u001b[39m(head, content):\n\u001b[0;32m----> 4\u001b[0m     h \u001b[38;5;241m=\u001b[39m \u001b[43mset_a_href\u001b[49m\u001b[43m(\u001b[49m\u001b[43mh\u001b[49m\u001b[43m)\u001b[49m\n\u001b[1;32m      5\u001b[0m     c \u001b[38;5;241m=\u001b[39m set_a_href(c)\n\u001b[1;32m      6\u001b[0m     text \u001b[38;5;241m+\u001b[39m\u001b[38;5;241m=\u001b[39m md(\u001b[38;5;28mstr\u001b[39m(h)) \u001b[38;5;241m+\u001b[39m \u001b[38;5;124m\"\u001b[39m\u001b[38;5;130;01m\\n\u001b[39;00m\u001b[38;5;124m\"\u001b[39m\n",
      "Cell \u001b[0;32mIn[2], line 3\u001b[0m, in \u001b[0;36mset_a_href\u001b[0;34m(tag)\u001b[0m\n\u001b[1;32m      1\u001b[0m \u001b[38;5;28;01mdef\u001b[39;00m \u001b[38;5;21mset_a_href\u001b[39m(tag):\n\u001b[1;32m      2\u001b[0m     \u001b[38;5;28;01mfor\u001b[39;00m a_tag \u001b[38;5;129;01min\u001b[39;00m tag\u001b[38;5;241m.\u001b[39mselect(\u001b[38;5;124m\"\u001b[39m\u001b[38;5;124ma\u001b[39m\u001b[38;5;124m\"\u001b[39m):\n\u001b[0;32m----> 3\u001b[0m         \u001b[38;5;28;01mif\u001b[39;00m \u001b[38;5;129;01mnot\u001b[39;00m \u001b[43ma_tag\u001b[49m\u001b[43m[\u001b[49m\u001b[38;5;124;43m'\u001b[39;49m\u001b[38;5;124;43mhref\u001b[39;49m\u001b[38;5;124;43m'\u001b[39;49m\u001b[43m]\u001b[49m\u001b[38;5;241m.\u001b[39mstartswith(\u001b[38;5;124m\"\u001b[39m\u001b[38;5;124m#\u001b[39m\u001b[38;5;124m\"\u001b[39m):\n\u001b[1;32m      4\u001b[0m             a_tag[\u001b[38;5;124m'\u001b[39m\u001b[38;5;124mhref\u001b[39m\u001b[38;5;124m'\u001b[39m] \u001b[38;5;241m=\u001b[39m parse\u001b[38;5;241m.\u001b[39munquote(a_tag[\u001b[38;5;124m'\u001b[39m\u001b[38;5;124mhref\u001b[39m\u001b[38;5;124m'\u001b[39m])\u001b[38;5;241m.\u001b[39mreplace(\u001b[38;5;124m\"\u001b[39m\u001b[38;5;124m \u001b[39m\u001b[38;5;124m\"\u001b[39m, \u001b[38;5;124m\"\u001b[39m\u001b[38;5;124m%\u001b[39m\u001b[38;5;124m20\u001b[39m\u001b[38;5;124m\"\u001b[39m)\n\u001b[1;32m      6\u001b[0m     \u001b[38;5;66;03m# wiki-fn-content # 주석\u001b[39;00m\n",
      "File \u001b[0;32m~/.pyenv/versions/3.9.16/envs/base/lib/python3.9/site-packages/bs4/element.py:1573\u001b[0m, in \u001b[0;36mTag.__getitem__\u001b[0;34m(self, key)\u001b[0m\n\u001b[1;32m   1570\u001b[0m \u001b[38;5;28;01mdef\u001b[39;00m \u001b[38;5;21m__getitem__\u001b[39m(\u001b[38;5;28mself\u001b[39m, key):\n\u001b[1;32m   1571\u001b[0m \u001b[38;5;250m    \u001b[39m\u001b[38;5;124;03m\"\"\"tag[key] returns the value of the 'key' attribute for the Tag,\u001b[39;00m\n\u001b[1;32m   1572\u001b[0m \u001b[38;5;124;03m    and throws an exception if it's not there.\"\"\"\u001b[39;00m\n\u001b[0;32m-> 1573\u001b[0m     \u001b[38;5;28;01mreturn\u001b[39;00m \u001b[38;5;28;43mself\u001b[39;49m\u001b[38;5;241;43m.\u001b[39;49m\u001b[43mattrs\u001b[49m\u001b[43m[\u001b[49m\u001b[43mkey\u001b[49m\u001b[43m]\u001b[49m\n",
      "\u001b[0;31mKeyError\u001b[0m: 'href'"
     ]
    }
   ],
   "source": [
    "text = \"\"\n",
    "\n",
    "for h, c in zip(head, content):\n",
    "    h = set_a_href(h)\n",
    "    c = set_a_href(c)\n",
    "    text += md(str(h)) + \"\\n\"\n",
    "    text += md(str(c)) + \"\\n\"\n",
    "\n",
    "\n",
    "with open(\"test.md\", \"w\", encoding=\"utf-8\") as f:\n",
    "    f.write(text)"
   ]
  },
  {
   "cell_type": "markdown",
   "id": "dc9954f9-3eb2-4c18-9e52-6581f988d598",
   "metadata": {},
   "source": [
    "### table"
   ]
  },
  {
   "cell_type": "code",
   "execution_count": 13,
   "id": "f41f983d-730b-4961-a7fb-6b3e653ce376",
   "metadata": {},
   "outputs": [
    {
     "name": "stdout",
     "output_type": "stream",
     "text": [
      "\n",
      "\n",
      "|  |\n",
      "| --- |\n",
      "| **우왁굳 관련 둘러보기 틀** |\n",
      "|  [ 펼치기 · 접기 ]\n",
      "\n",
      "---\n",
      "\n",
      "\n",
      "\n",
      "|  |\n",
      "| --- |\n",
      "| [패러블 엔터테인먼트 로고 화이...](/w/%ED%8C%A8%EB%9F%AC%EB%B8%94%20%EC%97%94%ED%84%B0%ED%85%8C%EC%9D%B8%EB%A8%BC%ED%8A%B8 \"패러블 엔터테인먼트\") |\n",
      "|  [ 펼치기 · 접기 ]\n",
      "\n",
      "|  |\n",
      "| --- |\n",
      "| **엔터테이너** |\n",
      "| [김수현](/w/%EA%B9%80%EC%88%98%ED%98%84(%EB%B0%A9%EC%86%A1%EC%9D%B8) \"김수현(방송인)\") | [김효진](/w/%EA%B9%80%ED%9A%A8%EC%A7%84(%EB%B0%A9%EC%86%A1%EC%9D%B8) \"김효진(방송인)\") | [조매력](/w/%EC%A1%B0%EB%A7%A4%EB%A0%A5 \"조매력\") |\n",
      "| **크리에이터** |\n",
      "| \n",
      "\n",
      "|  |  |  |  |  |\n",
      "| --- | --- | --- | --- | --- |\n",
      "| [369랑께](/w/369%EB%9E%91%EA%BB%98 \"369랑께\") | [9호](/w/9%ED%98%B8(%EC%9D%B8%ED%84%B0%EB%84%B7%20%EB%B0%A9%EC%86%A1%EC%9D%B8) \"9호(인터넷 방송인)\") | [개복어](/w/%EA%B0%9C%EB%B3%B5%EC%96%B4 \"개복어\") | [갱복치](/w/%EA%B0%B1%EB%B3%B5%EC%B9%98 \"갱복치\") |  [경식이할아버지](/w/%EA%B2%BD%EC%8B%9D%EC%9D%B4%ED%95%A0%EC%95%84%EB%B2%84%EC%A7%80 \"경식이할아버지\") |\n",
      "| [고먐잉](/w/%EA%B3%A0%EB%A8%90%EC%9E%89 \"고먐잉\") | 고유사 | 기령 | 기사단 | [김길현](/w/%EA%B9%80%EA%B8%B8%ED%98%84 \"김길현\") |\n",
      "| [김반희](/w/%EA%B9%80%EB%B0%98%ED%9D%AC \"김반희\") | [김슈림](/w/%EA%B9%80%EC%8A%88%EB%A6%BC \"김슈림\") | [김채호](/w/%EA%B9%80%EC%B1%84%ED%98%B8%EC%9D%98%20%ED%95%84%EB%A6%84%EC%B0%A2%EA%B8%B0 \"김채호의 필름찢기\") | [김챠멜](/w/%EA%B9%80%EC%B1%A0%EB%A9%9C \"김챠멜\") | [김토키](/w/%EA%B9%80%EC%8B%A0%EC%9A%B0 \"김신우\") |\n",
      "|  꽃제인 | [나니](/w/%EB%A7%88%ED%94%BC%EC%95%84%EB%8F%99%EC%82%B0#%EB%82%98%EB%8B%88 \"마피아동산\") | [난초야](/w/%EB%82%9C%EC%B4%88(%EC%9D%B8%ED%84%B0%EB%84%B7%20%EB%B0%A9%EC%86%A1%EC%9D%B8) \"난초(인터넷 방송인)\") | 날콤 | [남궁혁](/w/%EB%82%A8%EA%B6%81%ED%98%81(%EC%9D%B8%ED%84%B0%EB%84%B7%20%EB%B0%A9%EC%86%A1%EC%9D%B8) \"남궁혁(인터넷 방송인)\") |\n",
      "| [노돌리](/w/%EB%85%B8%EB%8F%8C%EB%A6%AC \"노돌리\") | [다솔](/w/%EB%8B%A4%EC%86%94%EC%B0%8C \"다솔찌\") | 다피 | [단츄](/w/%EB%8B%A8%EC%B8%84 \"단츄\") | 달디 |\n",
      "| [달러왕](/w/%EB%8B%AC%EB%9F%AC%EC%99%95 \"달러왕\") | [달이TV](/w/%EB%8B%AC%EC%9D%B4TV \"달이TV\") | [닼발](/w/%EB%8B%BC%EB%B0%9C \"닼발\") | 대사부 | 데이Day |\n",
      "| 데저트이글 | [델로략국](/w/%EB%8D%B8%EB%A1%9C%EB%9E%B5%EA%B5%AD \"델로략국\") | [도그홀](/w/%EB%8F%84%EA%B7%B8%ED%99%80 \"도그홀\") | [도다람](/w/%EB%8F%84%EB%8B%A4%EB%9E%8C \"도다람\") | [도롱챠](/w/%EB%8F%84%EB%A1%B1%EC%B1%A0 \"도롱챠\") |\n",
      "| [두칠](/w/%EB%91%90%EC%B9%A0 \"두칠\") | [렐라](/w/%EB%A0%90%EB%9D%BC \"렐라\") | [로빈](/w/%EB%A1%9C%EB%B9%88(%EC%9D%B8%ED%84%B0%EB%84%B7%20%EB%B0%A9%EC%86%A1%EC%9D%B8) \"로빈(인터넷 방송인)\") | [뢴트게늄](/w/%EB%A2%B4%ED%8A%B8%EA%B2%8C%EB%8A%84(%EC%9D%B8%ED%84%B0%EB%84%B7%20%EB%B0%A9%EC%86%A1%EC%9D%B8) \"뢴트게늄(인터넷 방송인)\") |  [류은유](/w/%EB%A5%98%EC%9D%80%EC%9C%A0 \"류은유\")  |\n",
      "| [릴카](/w/%EB%A6%B4%EC%B9%B4 \"릴카\") | [마이곰이](/w/%EB%A7%88%EC%9D%B4%EA%B3%B0%EC%9D%B4 \"마이곰이\") | [마준](/w/%EB%A7%88%EC%A4%80(%EC%95%A0%EB%8B%88%EB%A9%94%EC%9D%B4%ED%84%B0) \"마준(애니메이터)\") | [맥또마또](/w/%EB%A7%A5%EB%98%90%EB%A7%88%EB%98%90 \"맥또마또\") | [먀릴리](/w/%EB%A8%80%EB%A6%B4%EB%A6%AC \"먀릴리\") |\n",
      "| [메탈킴](/w/%EB%A9%94%ED%83%88%ED%82%B4 \"메탈킴\") | [모좀](/w/%EB%AA%A8%EC%A2%80 \"모좀\") | [무결](/w/%EB%AC%B4%EA%B2%B0 \"무결\") | [무능한](/w/%EB%AC%B4%EB%8A%A5%ED%95%9C \"무능한\") | [미깡](/w/%EA%B9%80%EB%B3%B4%EB%82%98 \"김보나\") |\n",
      "| [미라지](/w/%EB%AF%B8%EB%9D%BC%EC%A7%80(%EC%9D%B8%ED%84%B0%EB%84%B7%20%EB%B0%A9%EC%86%A1%EC%9D%B8) \"미라지(인터넷 방송인)\") | [미요](/w/%EB%AF%B8%EC%9A%94 \"미요\") | [밍턴](/w/%EB%B0%8D%ED%84%B4 \"밍턴\") | [바나나](/w/%EB%B0%94%EB%82%98%EB%82%98(%EC%9D%B8%ED%84%B0%EB%84%B7%20%EB%B0%A9%EC%86%A1%EC%9D%B8) \"바나나(인터넷 방송인)\") | [박나나](/w/%EB%B0%95%EB%82%98%EB%82%98 \"박나나\") |\n",
      "| 뱅알 | [비쥬](/w/%EB%B9%84%EC%A5%AC(%EC%9D%B8%ED%84%B0%EB%84%B7%20%EB%B0%A9%EC%86%A1%EC%9D%B8) \"비쥬(인터넷 방송인)\") | [블샥](/w/%EB%B8%94%EC%83%A5 \"블샥\") | 삐빼 | [빼켱](/w/%EB%B9%BC%EC%BC%B1 \"빼켱\") |\n",
      "| [사쿠](/w/%EC%9D%B4%EC%A3%BC%EC%8A%B9(%EC%84%B1%EC%9A%B0) \"이주승(성우)\") | 샤고 | 서커스진 | [섭이스센터](/w/%EC%84%AD%EC%9D%B4%EC%8A%A4%EC%84%BC%ED%84%B0 \"섭이스센터\") | [세치혀](/w/%EC%84%B8%EC%B9%98%ED%98%80 \"세치혀\") |\n",
      "| [숑아](/w/%EC%88%91%EC%95%84 \"숑아\") | 슝슝늘보 | [스카이곰](/w/%EC%8A%A4%EC%B9%B4%EC%9D%B4%EA%B3%B0 \"스카이곰\") | [신속](/w/%EC%8B%A0%EC%86%8D(%EC%9D%B8%ED%84%B0%EB%84%B7%20%EB%B0%A9%EC%86%A1%EC%9D%B8) \"신속(인터넷 방송인)\") | [실크로](/w/%EC%8B%A4%ED%81%AC%EB%A1%9C \"실크로\") |\n",
      "| 쌔오 | [야미캣](/w/%EC%95%BC%EB%AF%B8%EC%BA%A3 \"야미캣\") | 에르미나 | [영래기](/w/%EC%98%81%EB%9E%98%EA%B8%B0 \"영래기\") | [오맑음](/w/%EC%98%A4%EB%A7%91%EC%9D%8C \"오맑음\") |\n",
      "| 오벨 | [오형짱](/w/%EC%98%A4%ED%98%95%EC%A7%B1 \"오형짱\") | [와쁠](/w/%EC%99%80%EC%81%A0 \"와쁠\") | [용봉탕](/w/%ED%99%A9%EA%B7%9C%ED%98%95 \"황규형\") | [양도끼](/w/%EC%96%91%EB%8F%84%EB%81%BC \"양도끼\") |\n",
      "| [우왁굳](/w/%EC%9A%B0%EC%99%81%EA%B5%B3 \"우왁굳\") | [유달린](/w/%EC%9C%A0%EB%8B%AC%EB%A6%B0 \"유달린\") | [윤치](/w/%EC%9C%A4%EC%B9%98 \"윤치\") | 이계피 | [이녕](/w/%EC%9D%B4%EB%85%95 \"이녕\") |\n",
      "| [이세계록스타](/w/%EC%9D%B4%EC%84%B8%EA%B3%84%EB%A1%9D%EC%8A%A4%ED%83%80 \"이세계록스타\") | [이쿠롬](/w/%EC%9D%B4%EC%BF%A0%EB%A1%AC \"이쿠롬\") | [이태준](/w/%EC%9D%B4%ED%83%9C%EC%A4%80(1995) \"이태준(1995)\") | [이현](/w/%EC%9D%B4%ED%98%84(%EC%9D%B8%ED%84%B0%EB%84%B7%20%EB%B0%A9%EC%86%A1%EC%9D%B8) \"이현(인터넷 방송인)\") | [익곰](/w/%EC%9D%B5%EA%B3%B0 \"익곰\") |\n",
      "| [임재천](/w/%EC%9E%84%EC%9E%AC%EC%B2%9C \"임재천\") | [잉붕](/w/%EC%9E%89%EB%B6%95 \"잉붕\") | [정혜일](/w/%EC%A0%95%ED%98%9C%EC%9D%BC \"정혜일\") | 제나 | [제이킴](/w/%EC%A0%9C%EC%9D%B4%ED%82%B4 \"제이킴\") |\n",
      "| [조마문](/w/%EC%A1%B0%EB%A7%88%EB%AC%B8 \"조마문\") | 존샌드위치 | [주루](/w/%EC%A3%BC%EB%A3%A8(%EC%9D%B8%ED%84%B0%EB%84%B7%20%EB%B0%A9%EC%86%A1%EC%9D%B8) \"주루(인터넷 방송인)\") | 지함 | [진호](/w/%EC%A7%84%ED%98%B8(%EC%9D%B8%ED%84%B0%EB%84%B7%20%EB%B0%A9%EC%86%A1%EC%9D%B8) \"진호(인터넷 방송인)\") |\n",
      "| [찌모햄](/w/%EC%B0%8C%EB%AA%A8%ED%96%84 \"찌모햄\") | [최홍자](/w/%EC%B5%9C%ED%99%8D%EC%9E%90 \"최홍자\") | [카이카이](/w/%EC%B9%B4%EC%9D%B4%EC%B9%B4%EC%9D%B4(%EC%9C%A0%ED%8A%9C%EB%B2%84) \"카이카이(유튜버)\") | [큐에](/w/%ED%81%90%EC%97%90 \"큐에\") | [크헐헐](/w/%ED%81%AC%ED%97%90%ED%97%90 \"크헐헐\") |\n",
      "| [클립라이트](/w/%ED%81%B4%EB%A6%BD%EB%9D%BC%EC%9D%B4%ED%8A%B8 \"클립라이트\") | [천양](/w/%EC%B2%9C%EC%96%91 \"천양\") | [타로로](/w/%EA%B9%80%EC%9C%A4%EC%B1%84 \"김윤채\") | [텔론](/w/%ED%85%94%EB%A1%A0 \"텔론\") | [통깡이](/w/%ED%86%B5%EA%B9%A1%EC%9D%B4 \"통깡이\") |\n",
      "| [포베](/w/%ED%8F%AC%EB%B2%A0(%EC%9D%B8%ED%84%B0%EB%84%B7%20%EB%B0%A9%EC%86%A1%EC%9D%B8) \"포베(인터넷 방송인)\") | [폴탄](/w/%ED%8F%B4%ED%83%84 \"폴탄\") | [하우카우](/w/%ED%95%98%EC%9A%B0%EC%B9%B4%EC%9A%B0 \"하우카우\") | [하쿠0089](/w/%ED%95%98%EC%BF%A00089 \"하쿠0089\") | [함군](/w/%ED%95%A8%EA%B5%B0 \"함군\") |\n",
      "| 툭툭 | [해봄](/w/%ED%95%B4%EB%B4%84 \"해봄\") | [해블린](/w/%ED%95%B4%EB%B8%94%EB%A6%B0 \"해블린\") | [허샘](/w/%ED%97%88%EC%83%98 \"허샘\") | [헤가](/w/%ED%97%A4%EA%B0%80 \"헤가\") |\n",
      "| 헤로헤로 | [흑빈](/w/%ED%9D%91%EB%B9%88 \"흑빈\") | [흑열전구](/w/%ED%9D%91%EC%97%B4%EC%A0%84%EA%B5%AC \"흑열전구\") | [히똥이](/w/%ED%9E%88%EB%98%A5%EC%9D%B4 \"히똥이\") | [MaWang](/w/MaWang \"MaWang\") |\n",
      "\n",
      " |\n",
      "| **[싸이코드](/w/%EC%8B%B8%EC%9D%B4%EC%BD%94%EB%93%9C \"싸이코드\")** |\n",
      "| \n",
      "\n",
      "|  |  |  |  |  |\n",
      "| --- | --- | --- | --- | --- |\n",
      "| [감제이](/w/%EA%B0%90%EC%A0%9C%EC%9D%B4 \"감제이\") | [연](/w/%EC%97%B0(%EC%9D%B8%ED%84%B0%EB%84%B7%20%EB%B0%A9%EC%86%A1%EC%9D%B8) \"연(인터넷 방송인)\") | [루이쨘](/w/%EB%A3%A8%EC%9D%B4%EC%A8%98 \"루이쨘\") | [늦잠](/w/%EB%8A%A6%EC%9E%A0(%EC%9D%B8%ED%84%B0%EB%84%B7%20%EB%B0%A9%EC%86%A1%EC%9D%B8) \"늦잠(인터넷 방송인)\") | [하루토](/w/%ED%95%98%EB%A3%A8%ED%86%A0(%EC%9D%B8%ED%84%B0%EB%84%B7%20%EB%B0%A9%EC%86%A1%EC%9D%B8) \"하루토(인터넷 방송인)\") |\n",
      "\n",
      " |\n",
      "| **[이세계아이돌](/w/%EC%9D%B4%EC%84%B8%EA%B3%84%EC%95%84%EC%9D%B4%EB%8F%8C \"이세계아이돌\")** |\n",
      "| [고세구](/w/%EA%B3%A0%EC%84%B8%EA%B5%AC \"고세구\") | [릴파](/w/%EB%A6%B4%ED%8C%8C \"릴파\") | [비챤](/w/%EB%B9%84%EC%B1%A4 \"비챤\") |\n",
      "| [아이네](/w/%EC%95%84%EC%9D%B4%EB%84%A4 \"아이네\") | [주르르](/w/%EC%A3%BC%EB%A5%B4%EB%A5%B4 \"주르르\") | [징버거](/w/%EC%A7%95%EB%B2%84%EA%B1%B0 \"징버거\") |\n",
      "\n",
      " |\n",
      "\n",
      "\n",
      "\n",
      "---\n",
      "\n",
      "[왁타버스 로고](/w/%EC%99%81%ED%83%80%EB%B2%84%EC%8A%A4 \"왁타버스\") [ 세계관 ]\n",
      "\n",
      "|  |  |\n",
      "| --- | --- |\n",
      "| **운영** | [우왁굳](/w/%EC%9A%B0%EC%99%81%EA%B5%B3 \"우왁굳\") |\n",
      "| **크리에이터 팀** | [왁엔터로고](/w/%EC%99%81%20%EC%97%94%ED%84%B0%ED%85%8C%EC%9D%B8%EB%A8%BC%ED%8A%B8 \"왁 엔터테인먼트\") |\n",
      "| **구성원** | [이세계 아이돌 로고](/w/%EC%9D%B4%EC%84%B8%EA%B3%84%EC%95%84%EC%9D%B4%EB%8F%8C \"이세계아이돌\") | [Gomem](/w/%EC%99%81%ED%83%80%EB%B2%84%EC%8A%A4%20%EA%B3%A0%EC%A0%95%20%EB%A9%A4%EB%B2%84 \"왁타버스 고정 멤버\") | [교멤로고](/w/%EA%B3%A0%EB%A9%A4%20%EC%95%84%EC%B9%B4%EB%8D%B0%EB%AF%B8 \"고멤 아카데미\") | [제3세력](/w/%EC%A0%9C3%EC%84%B8%EB%A0%A5(%EC%99%81%ED%83%80%EB%B2%84%EC%8A%A4) \"제3세력(왁타버스)\") |\n",
      "| **팬덤** | [이파리](/w/%EC%9D%B4%ED%8C%8C%EB%A6%AC \"이파리\") | [침팬치](/w/%EC%B9%A8%ED%8C%AC%EC%B9%98 \"침팬치\") |\n",
      "\n",
      " [ 관련 문서 ]\n",
      "\n",
      "|  |  |\n",
      "| --- | --- |\n",
      "| **서비스** | [왁스플로러](/w/%EC%99%81%EC%8A%A4%ED%94%8C%EB%A1%9C%EB%9F%AC \"왁스플로러\") |\n",
      "| [감람스톤](/w/%EA%B0%90%EB%9E%8C%EC%8A%A4%ED%86%A4 \"감람스톤\") | [왁스코드](/w/%EC%99%81%EC%8A%A4%EC%BD%94%EB%93%9C \"왁스코드\") | [왁타버스 뮤직](/w/%EC%99%81%ED%83%80%EB%B2%84%EC%8A%A4%20%EB%AE%A4%EC%A7%81 \"왁타버스 뮤직\") |\n",
      "| [왁툰](/w/%EC%99%81%ED%88%B0 \"왁툰\") | [왁제이맥스](/w/%EC%99%81%EC%A0%9C%EC%9D%B4%EB%A7%A5%EC%8A%A4 \"왁제이맥스\") | [왁타버스 게임즈](/w/%EC%99%81%ED%83%80%EB%B2%84%EC%8A%A4%20%EA%B2%8C%EC%9E%84%EC%A6%88 \"왁타버스 게임즈\") |\n",
      "| **콘텐츠** | [VR챗 월드](/w/%EC%99%81%ED%83%80%EB%B2%84%EC%8A%A4/%EC%9B%94%EB%93%9C \"왁타버스/월드\") | [고멤 가요제](/w/%EA%B3%A0%EB%A9%A4%20%EA%B0%80%EC%9A%94%EC%A0%9C \"고멤 가요제\") | [왁타버스 작곡캠프](/w/%EC%99%81%ED%83%80%EB%B2%84%EC%8A%A4%20%EC%9E%91%EA%B3%A1%EC%BA%A0%ED%94%84 \"왁타버스 작곡캠프\") |\n",
      "| [2023 왁타버스 뮤직 어워즈](/w/2023%20%EC%99%81%ED%83%80%EB%B2%84%EC%8A%A4%20%EB%AE%A4%EC%A7%81%20%EC%96%B4%EC%9B%8C%EC%A6%88 \"2023 왁타버스 뮤직 어워즈\") |\n",
      "\n",
      "\n",
      "\n",
      "---\n",
      "\n",
      "\n",
      "\n",
      "|  |  |  |  |  |  |  |  |  |\n",
      "| --- | --- | --- | --- | --- | --- | --- | --- | --- |\n",
      "| [왁엔터테인먼트 로고](/w/%EC%99%81%20%EC%97%94%ED%84%B0%ED%85%8C%EC%9D%B8%EB%A8%BC%ED%8A%B8 \"왁 엔터테인먼트\") [ 소속 아티스트 ]\n",
      "\n",
      "|  |  |\n",
      "| --- | --- |\n",
      "| **GROUP** | **SOLO** |\n",
      "| [이세계 아이돌 로고](/w/%EC%9D%B4%EC%84%B8%EA%B3%84%EC%95%84%EC%9D%B4%EB%8F%8C \"이세계아이돌\") | [**RUSUK**](/w/RUSUK \"RUSUK\") |\n",
      "\n",
      " [ 직원 ]\n",
      "\n",
      "|  |  |\n",
      "| --- | --- |\n",
      "| **대표** | **매니지먼트 실장** |\n",
      "| [우왁굳](/w/%EC%9A%B0%EC%99%81%EA%B5%B3 \"우왁굳\") | [뢴트게늄](/w/%EB%A2%B4%ED%8A%B8%EA%B2%8C%EB%8A%84(%EC%9D%B8%ED%84%B0%EB%84%B7%20%EB%B0%A9%EC%86%A1%EC%9D%B8) \"뢴트게늄(인터넷 방송인)\") |\n",
      "\n",
      " |\n",
      "\n",
      "\n",
      "\n",
      "---\n",
      "\n",
      "\n",
      "\n",
      "|  |\n",
      "| --- |\n",
      "| [ud43kfz](/w/%EC%9A%B0%EC%99%81%EA%B5%B3TV \"우왁굳TV\") |\n",
      "|  [ 펼치기 · 접기 ]\n",
      "\n",
      "|  |\n",
      "| --- |\n",
      "| **시즌1 멤버** |\n",
      "| [우왁굳](/w/%EC%9A%B0%EC%99%81%EA%B5%B3 \"우왁굳\") | [개복어](/w/%EA%B0%9C%EB%B3%B5%EC%96%B4 \"개복어\") | [노돌리](/w/%EB%85%B8%EB%8F%8C%EB%A6%AC \"노돌리\") | [노지](/w/%EC%9A%B0%EC%99%81%EA%B5%B3TV#s-4.1.4 \"우왁굳TV\") | [로복](/w/%EB%A1%9C%EB%B3%B5 \"로복\") | [레비](/w/%EC%9A%B0%EC%99%81%EA%B5%B3TV#s-4.1.5 \"우왁굳TV\") | [레알마틴](/w/%EB%A0%88%EC%95%8C%EB%A7%88%ED%8B%B4 \"레알마틴\") |\n",
      "| [렘쨩](/w/%EB%A0%98%EC%A8%A9 \"렘쨩\") | [무결](/w/%EB%AC%B4%EA%B2%B0#s-2 \"무결\") | [조마문](/w/%EC%A1%B0%EB%A7%88%EB%AC%B8 \"조마문\") | [조매력](/w/%EC%A1%B0%EB%A7%A4%EB%A0%A5 \"조매력\") | [천양](/w/%EC%B2%9C%EC%96%91 \"천양\") | [크헐헐](/w/%ED%81%AC%ED%97%90%ED%97%90 \"크헐헐\") | [플앵](/w/%EC%9A%B0%EC%99%81%EA%B5%B3TV#s-4.1.14 \"우왁굳TV\") |\n",
      "|  **시즌2 멤버** |\n",
      "| \n",
      "\n",
      "|  |  |  |  |  |\n",
      "| --- | --- | --- | --- | --- |\n",
      "| [개구몽](/w/%EB%8F%84%EA%B7%B8%ED%99%80 \"도그홀\") | [두칠](/w/%EB%91%90%EC%B9%A0 \"두칠\") | [바나나](/w/%EB%B0%94%EB%82%98%EB%82%98(%EC%9D%B8%ED%84%B0%EB%84%B7%20%EB%B0%A9%EC%86%A1%EC%9D%B8) \"바나나(인터넷 방송인)\") | [진호](/w/%EC%A7%84%ED%98%B8(%EC%9D%B8%ED%84%B0%EB%84%B7%20%EB%B0%A9%EC%86%A1%EC%9D%B8) \"진호(인터넷 방송인)\") | [함군](/w/%ED%95%A8%EA%B5%B0 \"함군\") |\n",
      "\n",
      " |\n",
      "| ※ 이전 우왁굳TV 멤버 목록은 [우왁굳TV](/w/%EC%9A%B0%EC%99%81%EA%B5%B3TV#%E5%89%8D%20%EB%A9%A4%EB%B2%84 \"우왁굳TV\") 참고. |\n",
      "\n",
      " |\n",
      "\n",
      " |\n",
      "\n",
      "\n"
     ]
    }
   ],
   "source": [
    "tables = soup.select(\"table.wiki-table\")\n",
    "print(md(str(tables[4])))"
   ]
  },
  {
   "cell_type": "markdown",
   "id": "16211550-bd5b-4d4a-9024-dde8a5ee9941",
   "metadata": {
    "jp-MarkdownHeadingCollapsed": true
   },
   "source": [
    "## draw graph"
   ]
  },
  {
   "cell_type": "code",
   "execution_count": 25,
   "id": "9eb3a22d-0041-4896-88be-3e52418cd275",
   "metadata": {},
   "outputs": [
    {
     "data": {
      "image/png": "[encoded data removed]",
      "text/plain": [
       "<Figure size 640x480 with 1 Axes>"
      ]
     },
     "metadata": {},
     "output_type": "display_data"
    }
   ],
   "source": [
    "import pydot\n",
    "import matplotlib.pyplot as plt\n",
    "import matplotlib.image as img\n",
    "\n",
    "graph = pydot.Dot(graph_type='graph', charset=\"UTF-8\", fontname=\"malgun\")\n",
    "\n",
    "for node in tree.values():\n",
    "    for sub in node['subcategory']:\n",
    "        graph.add_edge(pydot.Edge(node['title'], sub, color=\"blue\"))\n",
    "    for sub in node['subdocs']:\n",
    "        graph.add_edge(pydot.Edge(node['title'], sub, color=\"green\"))\n",
    "    for sub in node['subform']:\n",
    "        graph.add_edge(pydot.Edge(node['title'], sub, color=\"red\"))\n",
    "\n",
    "graph.write_png('./graph.png')\n",
    "\n",
    "img_test = img.imread('./graph.png')\n",
    "plt.imshow(img_test)\n",
    "plt.show()"
   ]
  }
 ],
 "metadata": {
  "kernelspec": {
   "display_name": "Python 3 (ipykernel)",
   "language": "python",
   "name": "python3"
  },
  "language_info": {
   "codemirror_mode": {
    "name": "ipython",
    "version": 3
   },
   "file_extension": ".py",
   "mimetype": "text/x-python",
   "name": "python",
   "nbconvert_exporter": "python",
   "pygments_lexer": "ipython3",
   "version": "3.9.16"
  }
 },
 "nbformat": 4,
 "nbformat_minor": 5
}
