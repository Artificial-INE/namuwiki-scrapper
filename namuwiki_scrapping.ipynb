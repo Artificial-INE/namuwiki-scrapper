{
 "cells": [
  {
   "cell_type": "code",
   "execution_count": 2,
   "id": "1a46daf5-b4f5-4af2-a30a-a81dbfa295c0",
   "metadata": {},
   "outputs": [],
   "source": [
    "import datetime as dt\n",
    "import os\n",
    "import requests\n",
    "import time\n",
    "from urllib import parse\n",
    "from glob import glob\n",
    "\n",
    "import pandas as pd\n",
    "from bs4 import BeautifulSoup\n",
    "# from selenium import webdriver\n",
    "# from selenium.webdriver.common.keys import Keys\n",
    "# from selenium.webdriver.common.by import By\n",
    "from tqdm.notebook import tqdm, trange\n",
    "\n",
    "\n",
    "base_url = \"https://namu.wiki/w/\"\n",
    "logging_dir = \"/home/nsw/datasets/namuwiki_scrapping_logs/\""
   ]
  },
  {
   "cell_type": "markdown",
   "id": "cf5220bd-cd97-465d-b655-ccaa60829338",
   "metadata": {},
   "source": [
    "# beautifulsoup"
   ]
  },
  {
   "cell_type": "markdown",
   "id": "f910e831-6625-4813-b2f4-a94e35e15ed0",
   "metadata": {
    "jp-MarkdownHeadingCollapsed": true
   },
   "source": [
    "## graph"
   ]
  },
  {
   "cell_type": "code",
   "execution_count": 31,
   "id": "c9742752-7943-4c1f-b4f8-306eced10f0a",
   "metadata": {},
   "outputs": [],
   "source": [
    "step = len(glob(logging_dir + \".xlsx\"))\n",
    "log_cols = [\"parents\", \"key\", \"use\"]\n",
    "graph = dict()"
   ]
  },
  {
   "cell_type": "code",
   "execution_count": 32,
   "id": "f7477466-796b-49ca-96ac-2771be898686",
   "metadata": {},
   "outputs": [],
   "source": [
    "if not os.path.isfile(logging_dir + \"result_step_00.xlsx\"):\n",
    "    pd.DataFrame([(\"root\", \"우왁굳\", 1)], columns=log_cols).to_excel(logging_dir + f\"result_step_{step:02d}.xlsx\", index=None)"
   ]
  },
  {
   "cell_type": "code",
   "execution_count": 27,
   "id": "74cf8980-fb13-4bed-839e-994960c3b44c",
   "metadata": {},
   "outputs": [],
   "source": [
    "def make_node(title: str, children: list):\n",
    "    return {\n",
    "        \"title\": title,\n",
    "        \"url\": parse.quote(base_url + title),\n",
    "        \"children\": [ch[1] for ch in children],\n",
    "    }"
   ]
  },
  {
   "cell_type": "code",
   "execution_count": 45,
   "id": "dcf19413-c029-47f6-abe5-cda589ab81a9",
   "metadata": {},
   "outputs": [
    {
     "data": {
      "application/vnd.jupyter.widget-view+json": {
       "model_id": "1471d384938b4504aa9d1ba3472a93df",
       "version_major": 2,
       "version_minor": 0
      },
      "text/plain": [
       "  0%|          | 0/101 [00:00<?, ?it/s]"
      ]
     },
     "metadata": {},
     "output_type": "display_data"
    }
   ],
   "source": [
    "key_df = pd.read_excel(logging_dir + f\"result_step_{step:02d}.xlsx\")\n",
    "for _, row in key_df.iterrows():\n",
    "    if pd.isna(row['use']):\n",
    "        graph[row['parents']]['children'].remove(row['key'])\n",
    "\n",
    "keys = key_df.dropna().key.to_list()\n",
    "\n",
    "# keys = pd.read_excel(logging_dir + f\"result_step_{step:02d}.xlsx\").key.dropna().to_list()\n",
    "step += 1\n",
    "new_keys = []\n",
    "for key in tqdm(keys):\n",
    "    if key in graph:\n",
    "        # print(key, \": continue\")\n",
    "        continue\n",
    "    soup = BeautifulSoup(requests.get(base_url + key).text, 'html.parser')\n",
    "\n",
    "    index = soup.select_one(\"div.toc-indent\")\n",
    "    if index == None:\n",
    "        children = []\n",
    "    else:\n",
    "        children = [\n",
    "            (key, parse.unquote(link.get_attribute_list(\"href\")[0].split(\"/\", 2)[-1]), 1)\n",
    "            for link in index.select(\"a.wiki-link-internal\")\n",
    "        ]\n",
    "\n",
    "    node = make_node(key, children)\n",
    "    graph[key] = node\n",
    "    # print(key, children)\n",
    "\n",
    "    new_keys += children\n",
    "\n",
    "# new_keys\n",
    "pd.DataFrame(new_keys, columns=log_cols).to_excel(logging_dir + f\"result_step_{step:02d}.xlsx\", index=None)"
   ]
  },
  {
   "cell_type": "code",
   "execution_count": 25,
   "id": "7ae50f95-403b-4c8b-8638-2e2473bb26f6",
   "metadata": {},
   "outputs": [
    {
     "data": {
      "text/plain": [
       "dict_keys(['우왁굳', '우왁굳/방송 역사', '왁두', '우왁굳/특징', '우왁굳/별명 및 밈', '우왁굳/콘텐츠', '우왁굳/플레이한 게임', '침팬치', '왁물원', '우왁굳TV', '왁카데미', '우왁굳/콘텐츠/고정 멤버', '이세계아이돌', '왁타버스 중간계', '우왁굳/논란 및 사건 사고', '우왁굳/어록', '오뱅계르크', '우왁굳/연도별 행적', '아프리카TV', '왁두/파생형', '우왁굳/콘텐츠/게임', '우왁굳/콘텐츠/비게임', '왁타버스', '고멤 놀이터', '왁물원/이세계아이돌 게시판', '왁물원/인력사무소', '우왁굳/콘텐츠/비게임/연말 공모전', '왁물원/규정', '네이버 카페', '왁물원/역사', '개복어', '노돌리', '레알마틴', '렘쨩', '로복', '무결', '조마문', '조매력', '천양', '크헐헐', '도그홀', '두칠', '바나나(인터넷 방송인)', '진호(인터넷 방송인)', '함군', '겜스터', '휘용', '고니잠', '주르르', '우왁굳/콘텐츠/고정 멤버/0기', '왁타버스 고정 멤버', '고멤 아카데미', '이세계아이돌/멤버 간 케미', '이세계아이돌/오디션', '이세계아이돌/활동', '이세계아이돌/공연 및 행사', '이세계아이돌/음반 목록', '이세계아이돌/오리지널 곡', '이세계아이돌/커버 곡', '마법소녀 이세계아이돌', '차원을 넘어 이세계아이돌', '이파리', '이세계아이돌/응원법', '이세계아이돌/굿즈', '이세계아이돌/이모티콘', '이세계아이돌/월드', '이세계아이돌/여담', '2020년 유튜버 뒷광고 사건'])"
      ]
     },
     "execution_count": 25,
     "metadata": {},
     "output_type": "execute_result"
    }
   ],
   "source": [
    "graph.keys()"
   ]
  },
  {
   "cell_type": "code",
   "execution_count": 30,
   "id": "220bc75c-2ec6-4b20-a88d-d230f54d9ec2",
   "metadata": {},
   "outputs": [
    {
     "data": {
      "text/plain": [
       "[('우왁굳/논란 및 사건 사고', 'One Hour One Life'),\n",
       " ('우왁굳/논란 및 사건 사고', '그리핑'),\n",
       " ('우왁굳/논란 및 사건 사고', '2020년 유튜버 뒷광고 사건'),\n",
       " ('우왁굳/논란 및 사건 사고', '왁타버스')]"
      ]
     },
     "execution_count": 30,
     "metadata": {},
     "output_type": "execute_result"
    }
   ],
   "source": [
    "graph['우왁굳/논란 및 사건 사고']['children']"
   ]
  },
  {
   "cell_type": "markdown",
   "id": "bb7cf0dd-1a9e-4fc2-b97a-e6c614656561",
   "metadata": {},
   "source": [
    "## Tree  \n",
    "`분류:` 항목 참고한 트리구조(그래프x)"
   ]
  },
  {
   "cell_type": "code",
   "execution_count": 3,
   "id": "29357d25-27da-4d20-a331-498a41c47dae",
   "metadata": {},
   "outputs": [],
   "source": [
    "def make_tree_node(\n",
    "    title: str, \n",
    "    parents: str, \n",
    "    subcategory: list, \n",
    "    subdocs: list, \n",
    "    subform: list\n",
    "):\n",
    "    return {\n",
    "        \"title\": title,\n",
    "        \"url\": parse.quote(base_url + \"분류:\" + title),\n",
    "        \"parents\": parents,\n",
    "        \"subcategory\": subcategory,\n",
    "        \"subdocs\": subdocs,\n",
    "        \"subform\": subform,\n",
    "    }"
   ]
  },
  {
   "cell_type": "code",
   "execution_count": 4,
   "id": "2b2f0869-1184-4e51-8148-adb10f8ae5d7",
   "metadata": {},
   "outputs": [
    {
     "data": {
      "application/vnd.jupyter.widget-view+json": {
       "model_id": "",
       "version_major": 2,
       "version_minor": 0
      },
      "text/plain": [
       "  0%|          | 0/1 [00:00<?, ?it/s]"
      ]
     },
     "metadata": {},
     "output_type": "display_data"
    },
    {
     "name": "stdout",
     "output_type": "stream",
     "text": [
      "[('우왁굳', '왁물원'), ('우왁굳', '우왁굳/밈'), ('우왁굳', '우왁굳/콘텐츠'), ('우왁굳', '파일/우왁굳')]\n"
     ]
    },
    {
     "data": {
      "application/vnd.jupyter.widget-view+json": {
       "model_id": "",
       "version_major": 2,
       "version_minor": 0
      },
      "text/plain": [
       "  0%|          | 0/4 [00:00<?, ?it/s]"
      ]
     },
     "metadata": {},
     "output_type": "display_data"
    },
    {
     "name": "stdout",
     "output_type": "stream",
     "text": [
      "[('우왁굳/콘텐츠', '왁타버스'), ('우왁굳/콘텐츠', '우왁굳/콘텐츠/게임'), ('우왁굳/콘텐츠', '우왁굳/콘텐츠/고정 멤버'), ('파일/우왁굳', '파일/고멤 가요제'), ('파일/우왁굳', '파일/왁타버스')]\n"
     ]
    },
    {
     "data": {
      "application/vnd.jupyter.widget-view+json": {
       "model_id": "",
       "version_major": 2,
       "version_minor": 0
      },
      "text/plain": [
       "  0%|          | 0/5 [00:00<?, ?it/s]"
      ]
     },
     "metadata": {},
     "output_type": "display_data"
    },
    {
     "name": "stdout",
     "output_type": "stream",
     "text": [
      "[('왁타버스', '2023 왁타버스 뮤직 어워즈'), ('왁타버스', '고멤 가요제'), ('왁타버스', '고멤 아카데미'), ('왁타버스', '왁타버스 고정 멤버'), ('왁타버스', '왁타버스 관련 VR챗 월드'), ('왁타버스', '왁타버스 작곡캠프'), ('왁타버스', '왁타버스/오리지널 곡'), ('왁타버스', '이세계아이돌'), ('왁타버스', '파일/왁타버스'), ('우왁굳/콘텐츠/게임', '우왁굳/콘텐츠/게임/VR챗'), ('우왁굳/콘텐츠/게임', '티바로살래나'), ('우왁굳/콘텐츠/고정 멤버', '고멤 아카데미'), ('우왁굳/콘텐츠/고정 멤버', '왁타버스 고정 멤버'), ('파일/왁타버스', '파일/고멤 아카데미'), ('파일/왁타버스', '파일/왁타버스 고정 멤버'), ('파일/왁타버스', '파일/이세계아이돌')]\n"
     ]
    },
    {
     "data": {
      "application/vnd.jupyter.widget-view+json": {
       "model_id": "",
       "version_major": 2,
       "version_minor": 0
      },
      "text/plain": [
       "  0%|          | 0/16 [00:00<?, ?it/s]"
      ]
     },
     "metadata": {},
     "output_type": "display_data"
    },
    {
     "name": "stdout",
     "output_type": "stream",
     "text": [
      "[('고멤 가요제', '고멤 가요제/노래'), ('고멤 가요제', '고멤 가요제/팀'), ('고멤 가요제', '파일/고멤 가요제'), ('고멤 아카데미', '고멤 아카데미/소속 멤버'), ('고멤 아카데미', '고멤 아카데미/오리지널 곡'), ('고멤 아카데미', '파일/고멤 아카데미'), ('왁타버스 고정 멤버', '왁타버스 고정 멤버/소속 멤버'), ('왁타버스 고정 멤버', '왁타버스 고정 멤버/시즌'), ('왁타버스 고정 멤버', '왁타버스 고정 멤버/오리지널 곡'), ('왁타버스 고정 멤버', '파일/왁타버스 고정 멤버'), ('왁타버스/오리지널 곡', '고멤 아카데미/오리지널 곡'), ('왁타버스/오리지널 곡', '왁타버스 고정 멤버/오리지널 곡'), ('왁타버스/오리지널 곡', '이세계아이돌/오리지널 곡'), ('이세계아이돌', '이세계아이돌/2차 창작'), ('이세계아이돌', '고세구'), ('이세계아이돌', '이세계아이돌/공연 및 행사'), ('이세계아이돌', '둘러보기 틀/이세계아이돌'), ('이세계아이돌', '릴파'), ('이세계아이돌', '마법소녀 이세계아이돌'), ('이세계아이돌', '비챤'), ('이세계아이돌', '아이네'), ('이세계아이돌', '이세계아이돌/오리지널 곡'), ('이세계아이돌', '이세계아이돌/음반'), ('이세계아이돌', '이파리'), ('이세계아이돌', '주르르'), ('이세계아이돌', '징버거'), ('이세계아이돌', '차원을 넘어 이세계아이돌'), ('이세계아이돌', '파일/이세계아이돌'), ('우왁굳/콘텐츠/게임/VR챗', '2023 왁타버스 뮤직 어워즈'), ('우왁굳/콘텐츠/게임/VR챗', '고멤 가요제'), ('파일/이세계아이돌', '파일/고세구'), ('파일/이세계아이돌', '파일/릴파'), ('파일/이세계아이돌', '파일/비챤'), ('파일/이세계아이돌', '파일/아이네'), ('파일/이세계아이돌', '파일/주르르'), ('파일/이세계아이돌', '파일/징버거')]\n"
     ]
    },
    {
     "data": {
      "application/vnd.jupyter.widget-view+json": {
       "model_id": "",
       "version_major": 2,
       "version_minor": 0
      },
      "text/plain": [
       "  0%|          | 0/36 [00:00<?, ?it/s]"
      ]
     },
     "metadata": {},
     "output_type": "display_data"
    },
    {
     "name": "stdout",
     "output_type": "stream",
     "text": [
      "[('왁타버스 고정 멤버/오리지널 곡', '고멤 가요제/노래'), ('고세구', 'TOUR'), ('고세구', '파일/고세구'), ('이세계아이돌/공연 및 행사', 'TOUR'), ('릴파', '파일/릴파'), ('마법소녀 이세계아이돌', '마법소녀 이세계아이돌/등장인물'), ('비챤', '파일/비챤'), ('아이네', '파일/아이네'), ('주르르', '파일/주르르'), ('징버거', '파일/징버거'), ('차원을 넘어 이세계아이돌', '차원을 넘어 이세계아이돌/등장인물')]\n"
     ]
    },
    {
     "data": {
      "application/vnd.jupyter.widget-view+json": {
       "model_id": "",
       "version_major": 2,
       "version_minor": 0
      },
      "text/plain": [
       "  0%|          | 0/11 [00:00<?, ?it/s]"
      ]
     },
     "metadata": {},
     "output_type": "display_data"
    },
    {
     "name": "stdout",
     "output_type": "stream",
     "text": [
      "[]\n"
     ]
    }
   ],
   "source": [
    "tree = {}\n",
    "next_keys = [(\"root\", \"우왁굳\")]\n",
    "\n",
    "while len(next_keys) > 0:\n",
    "    keys = next_keys\n",
    "    next_keys = []\n",
    "\n",
    "    for parents, key in tqdm(keys, leave=False):\n",
    "        if key in tree:\n",
    "            continue\n",
    "        soup = BeautifulSoup(requests.get(base_url + \"분류:\" + key).text, 'html.parser')\n",
    "\n",
    "        subcategory = soup.select_one(\"#category-분류\")\n",
    "        subdocs = soup.select_one(\"#category-문서\")\n",
    "        subform = soup.select_one(\"#category-틀\")\n",
    "        \n",
    "        subcategory = [] if subcategory is None else [tag.get_attribute_list(\"title\")[0].split(\":\", 1)[-1] for tag in subcategory.select(\"a\")]\n",
    "        subdocs = [] if subdocs is None else [tag.get_attribute_list(\"title\")[0] for tag in subdocs.select(\"a\")]\n",
    "        subform = [] if subform is None else [tag.get_attribute_list(\"title\")[0].split(\":\", 1)[-1] for tag in subform.select(\"a\")]\n",
    "\n",
    "        node = make_tree_node(key, parents, subcategory, subdocs, subform)\n",
    "        tree[key] = node\n",
    "        # print(key, children)\n",
    "    \n",
    "        next_keys += [(key, sc) for sc in subcategory]\n",
    "\n",
    "    print(next_keys)"
   ]
  },
  {
   "cell_type": "code",
   "execution_count": 21,
   "id": "bc518504-6cf1-4f20-b177-b6f0b10af29d",
   "metadata": {},
   "outputs": [
    {
     "data": {
      "text/plain": [
       "53"
      ]
     },
     "execution_count": 21,
     "metadata": {},
     "output_type": "execute_result"
    }
   ],
   "source": [
    "len(tree)"
   ]
  },
  {
   "cell_type": "code",
   "execution_count": 22,
   "id": "8f09ab8e-5a37-4a65-881b-1968f2f11793",
   "metadata": {},
   "outputs": [
    {
     "data": {
      "text/plain": [
       "{'title': '우왁굳',\n",
       " 'url': 'https%3A//namu.wiki/w/%EB%B6%84%EB%A5%98%3A%EC%9A%B0%EC%99%81%EA%B5%B3',\n",
       " 'parents': 'root',\n",
       " 'subcategory': ['왁물원', '우왁굳/밈', '우왁굳/콘텐츠', '파일/우왁굳'],\n",
       " 'subdocs': ['Hush(우왁굳)',\n",
       "  '겜스터',\n",
       "  '오히려',\n",
       "  '왁제이맥스/수록곡',\n",
       "  '왁제이맥스/업데이트 내역',\n",
       "  '왁컬로이드',\n",
       "  '왁타버스 중간계',\n",
       "  '우왁굳',\n",
       "  '우왁굳 마이너 갤러리',\n",
       "  '우왁굳/논란 및 사건 사고',\n",
       "  '우왁굳/방송 역사',\n",
       "  '우왁굳/어록',\n",
       "  '우왁굳/연도별 행적',\n",
       "  '우왁굳/연도별 행적/2022년',\n",
       "  '우왁굳/연도별 행적/2023년',\n",
       "  '우왁굳/특징',\n",
       "  '우왁굳/플레이한 게임',\n",
       "  '우왁굳TV',\n",
       "  '우왁굳의 고집',\n",
       "  '우왁굳의 고집/아이템',\n",
       "  '우왁굳즈',\n",
       "  '융터르',\n",
       "  '침팬치'],\n",
       " 'subform': ['우왁굳', '우왁굳TV']}"
      ]
     },
     "execution_count": 22,
     "metadata": {},
     "output_type": "execute_result"
    }
   ],
   "source": [
    "tree['우왁굳']"
   ]
  },
  {
   "cell_type": "markdown",
   "id": "16211550-bd5b-4d4a-9024-dde8a5ee9941",
   "metadata": {},
   "source": [
    "## draw graph"
   ]
  },
  {
   "cell_type": "code",
   "execution_count": 25,
   "id": "9eb3a22d-0041-4896-88be-3e52418cd275",
   "metadata": {},
   "outputs": [
    {
     "data": {
      "image/png": "[encoded data removed]",
      "text/plain": [
       "<Figure size 640x480 with 1 Axes>"
      ]
     },
     "metadata": {},
     "output_type": "display_data"
    }
   ],
   "source": [
    "import pydot\n",
    "import matplotlib.pyplot as plt\n",
    "import matplotlib.image as img\n",
    "\n",
    "graph = pydot.Dot(graph_type='graph', charset=\"UTF-8\", fontname=\"malgun\")\n",
    "\n",
    "for node in tree.values():\n",
    "    for sub in node['subcategory']:\n",
    "        graph.add_edge(pydot.Edge(node['title'], sub, color=\"blue\"))\n",
    "    for sub in node['subdocs']:\n",
    "        graph.add_edge(pydot.Edge(node['title'], sub, color=\"green\"))\n",
    "    for sub in node['subform']:\n",
    "        graph.add_edge(pydot.Edge(node['title'], sub, color=\"red\"))\n",
    "\n",
    "graph.write_png('./graph.png')\n",
    "\n",
    "img_test = img.imread('./graph.png')\n",
    "plt.imshow(img_test)\n",
    "plt.show()"
   ]
  },
  {
   "cell_type": "code",
   "execution_count": 18,
   "id": "45857697-4e00-4c6a-9e9a-c7c238a9aff0",
   "metadata": {},
   "outputs": [
    {
     "data": {
      "text/plain": [
       "'D2Coding'"
      ]
     },
     "execution_count": 18,
     "metadata": {},
     "output_type": "execute_result"
    }
   ],
   "source": [
    "graph.get(\"fontname\")"
   ]
  }
 ],
 "metadata": {
  "kernelspec": {
   "display_name": "Python 3 (ipykernel)",
   "language": "python",
   "name": "python3"
  },
  "language_info": {
   "codemirror_mode": {
    "name": "ipython",
    "version": 3
   },
   "file_extension": ".py",
   "mimetype": "text/x-python",
   "name": "python",
   "nbconvert_exporter": "python",
   "pygments_lexer": "ipython3",
   "version": "3.9.16"
  }
 },
 "nbformat": 4,
 "nbformat_minor": 5
}
