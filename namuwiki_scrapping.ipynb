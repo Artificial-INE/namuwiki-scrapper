{
 "cells": [
  {
   "cell_type": "code",
   "execution_count": 1,
   "id": "1a46daf5-b4f5-4af2-a30a-a81dbfa295c0",
   "metadata": {},
   "outputs": [],
   "source": [
    "import datetime as dt\n",
    "import os\n",
    "import requests\n",
    "import time\n",
    "from urllib import parse\n",
    "from glob import glob\n",
    "\n",
    "import pandas as pd\n",
    "from bs4 import BeautifulSoup\n",
    "# from selenium import webdriver\n",
    "# from selenium.webdriver.common.keys import Keys\n",
    "# from selenium.webdriver.common.by import By\n",
    "from tqdm.notebook import tqdm, trange\n",
    "\n",
    "\n",
    "base_url = \"https://namu.wiki\"\n",
    "logging_dir = \"/home/nsw/datasets/namuwiki_scrapping_logs/\""
   ]
  },
  {
   "cell_type": "markdown",
   "id": "cf5220bd-cd97-465d-b655-ccaa60829338",
   "metadata": {},
   "source": [
    "# beautifulsoup"
   ]
  },
  {
   "cell_type": "markdown",
   "id": "f910e831-6625-4813-b2f4-a94e35e15ed0",
   "metadata": {
    "jp-MarkdownHeadingCollapsed": true
   },
   "source": [
    "## graph"
   ]
  },
  {
   "cell_type": "code",
   "execution_count": 31,
   "id": "c9742752-7943-4c1f-b4f8-306eced10f0a",
   "metadata": {},
   "outputs": [],
   "source": [
    "step = len(glob(logging_dir + \".xlsx\"))\n",
    "log_cols = [\"parents\", \"key\", \"use\"]\n",
    "graph = dict()"
   ]
  },
  {
   "cell_type": "code",
   "execution_count": 32,
   "id": "f7477466-796b-49ca-96ac-2771be898686",
   "metadata": {},
   "outputs": [],
   "source": [
    "if not os.path.isfile(logging_dir + \"result_step_00.xlsx\"):\n",
    "    pd.DataFrame([(\"root\", \"우왁굳\", 1)], columns=log_cols).to_excel(logging_dir + f\"result_step_{step:02d}.xlsx\", index=None)"
   ]
  },
  {
   "cell_type": "code",
   "execution_count": 27,
   "id": "74cf8980-fb13-4bed-839e-994960c3b44c",
   "metadata": {},
   "outputs": [],
   "source": [
    "def make_node(title: str, children: list):\n",
    "    return {\n",
    "        \"title\": title,\n",
    "        \"url\": parse.quote(base_url + title),\n",
    "        \"children\": [ch[1] for ch in children],\n",
    "    }"
   ]
  },
  {
   "cell_type": "code",
   "execution_count": 45,
   "id": "dcf19413-c029-47f6-abe5-cda589ab81a9",
   "metadata": {},
   "outputs": [
    {
     "data": {
      "application/vnd.jupyter.widget-view+json": {
       "model_id": "1471d384938b4504aa9d1ba3472a93df",
       "version_major": 2,
       "version_minor": 0
      },
      "text/plain": [
       "  0%|          | 0/101 [00:00<?, ?it/s]"
      ]
     },
     "metadata": {},
     "output_type": "display_data"
    }
   ],
   "source": [
    "key_df = pd.read_excel(logging_dir + f\"result_step_{step:02d}.xlsx\")\n",
    "for _, row in key_df.iterrows():\n",
    "    if pd.isna(row['use']):\n",
    "        graph[row['parents']]['children'].remove(row['key'])\n",
    "\n",
    "keys = key_df.dropna().key.to_list()\n",
    "\n",
    "# keys = pd.read_excel(logging_dir + f\"result_step_{step:02d}.xlsx\").key.dropna().to_list()\n",
    "step += 1\n",
    "new_keys = []\n",
    "for key in tqdm(keys):\n",
    "    if key in graph:\n",
    "        # print(key, \": continue\")\n",
    "        continue\n",
    "    soup = BeautifulSoup(requests.get(base_url + key).text, 'html.parser')\n",
    "\n",
    "    index = soup.select_one(\"div.toc-indent\")\n",
    "    if index == None:\n",
    "        children = []\n",
    "    else:\n",
    "        children = [\n",
    "            (key, parse.unquote(link.get_attribute_list(\"href\")[0].split(\"/\", 2)[-1]), 1)\n",
    "            for link in index.select(\"a.wiki-link-internal\")\n",
    "        ]\n",
    "\n",
    "    node = make_node(key, children)\n",
    "    graph[key] = node\n",
    "    # print(key, children)\n",
    "\n",
    "    new_keys += children\n",
    "\n",
    "# new_keys\n",
    "pd.DataFrame(new_keys, columns=log_cols).to_excel(logging_dir + f\"result_step_{step:02d}.xlsx\", index=None)"
   ]
  },
  {
   "cell_type": "code",
   "execution_count": 25,
   "id": "7ae50f95-403b-4c8b-8638-2e2473bb26f6",
   "metadata": {},
   "outputs": [
    {
     "data": {
      "text/plain": [
       "dict_keys(['우왁굳', '우왁굳/방송 역사', '왁두', '우왁굳/특징', '우왁굳/별명 및 밈', '우왁굳/콘텐츠', '우왁굳/플레이한 게임', '침팬치', '왁물원', '우왁굳TV', '왁카데미', '우왁굳/콘텐츠/고정 멤버', '이세계아이돌', '왁타버스 중간계', '우왁굳/논란 및 사건 사고', '우왁굳/어록', '오뱅계르크', '우왁굳/연도별 행적', '아프리카TV', '왁두/파생형', '우왁굳/콘텐츠/게임', '우왁굳/콘텐츠/비게임', '왁타버스', '고멤 놀이터', '왁물원/이세계아이돌 게시판', '왁물원/인력사무소', '우왁굳/콘텐츠/비게임/연말 공모전', '왁물원/규정', '네이버 카페', '왁물원/역사', '개복어', '노돌리', '레알마틴', '렘쨩', '로복', '무결', '조마문', '조매력', '천양', '크헐헐', '도그홀', '두칠', '바나나(인터넷 방송인)', '진호(인터넷 방송인)', '함군', '겜스터', '휘용', '고니잠', '주르르', '우왁굳/콘텐츠/고정 멤버/0기', '왁타버스 고정 멤버', '고멤 아카데미', '이세계아이돌/멤버 간 케미', '이세계아이돌/오디션', '이세계아이돌/활동', '이세계아이돌/공연 및 행사', '이세계아이돌/음반 목록', '이세계아이돌/오리지널 곡', '이세계아이돌/커버 곡', '마법소녀 이세계아이돌', '차원을 넘어 이세계아이돌', '이파리', '이세계아이돌/응원법', '이세계아이돌/굿즈', '이세계아이돌/이모티콘', '이세계아이돌/월드', '이세계아이돌/여담', '2020년 유튜버 뒷광고 사건'])"
      ]
     },
     "execution_count": 25,
     "metadata": {},
     "output_type": "execute_result"
    }
   ],
   "source": [
    "graph.keys()"
   ]
  },
  {
   "cell_type": "code",
   "execution_count": 30,
   "id": "220bc75c-2ec6-4b20-a88d-d230f54d9ec2",
   "metadata": {},
   "outputs": [
    {
     "data": {
      "text/plain": [
       "[('우왁굳/논란 및 사건 사고', 'One Hour One Life'),\n",
       " ('우왁굳/논란 및 사건 사고', '그리핑'),\n",
       " ('우왁굳/논란 및 사건 사고', '2020년 유튜버 뒷광고 사건'),\n",
       " ('우왁굳/논란 및 사건 사고', '왁타버스')]"
      ]
     },
     "execution_count": 30,
     "metadata": {},
     "output_type": "execute_result"
    }
   ],
   "source": [
    "graph['우왁굳/논란 및 사건 사고']['children']"
   ]
  },
  {
   "cell_type": "markdown",
   "id": "bb7cf0dd-1a9e-4fc2-b97a-e6c614656561",
   "metadata": {
    "jp-MarkdownHeadingCollapsed": true
   },
   "source": [
    "## Tree  \n",
    "`분류:` 항목 참고한 트리구조(그래프x)"
   ]
  },
  {
   "cell_type": "code",
   "execution_count": 2,
   "id": "29357d25-27da-4d20-a331-498a41c47dae",
   "metadata": {},
   "outputs": [],
   "source": [
    "def make_tree_node(\n",
    "    title: str, \n",
    "    parents: str, \n",
    "    subcategory: list, \n",
    "    subdocs: list, \n",
    "    subform: list\n",
    "):\n",
    "    return {\n",
    "        \"title\": title,\n",
    "        \"url\": base_url + parse.quote(\"/w/분류:\" + title),\n",
    "        \"parents\": parents,\n",
    "        \"subcategory\": subcategory,\n",
    "        \"subdocs\": subdocs,\n",
    "        \"subform\": subform,\n",
    "    }"
   ]
  },
  {
   "cell_type": "code",
   "execution_count": 3,
   "id": "2b2f0869-1184-4e51-8148-adb10f8ae5d7",
   "metadata": {
    "scrolled": true
   },
   "outputs": [
    {
     "data": {
      "application/vnd.jupyter.widget-view+json": {
       "model_id": "",
       "version_major": 2,
       "version_minor": 0
      },
      "text/plain": [
       "  0%|          | 0/1 [00:00<?, ?it/s]"
      ]
     },
     "metadata": {},
     "output_type": "display_data"
    },
    {
     "name": "stdout",
     "output_type": "stream",
     "text": [
      "[('우왁굳', '왁물원'), ('우왁굳', '우왁굳/밈'), ('우왁굳', '우왁굳/콘텐츠'), ('우왁굳', '파일/우왁굳')]\n"
     ]
    },
    {
     "data": {
      "application/vnd.jupyter.widget-view+json": {
       "model_id": "",
       "version_major": 2,
       "version_minor": 0
      },
      "text/plain": [
       "  0%|          | 0/4 [00:00<?, ?it/s]"
      ]
     },
     "metadata": {},
     "output_type": "display_data"
    },
    {
     "name": "stdout",
     "output_type": "stream",
     "text": [
      "[('우왁굳/콘텐츠', '왁타버스'), ('우왁굳/콘텐츠', '우왁굳/콘텐츠/게임'), ('우왁굳/콘텐츠', '우왁굳/콘텐츠/고정 멤버'), ('파일/우왁굳', '파일/고멤 가요제'), ('파일/우왁굳', '파일/왁타버스')]\n"
     ]
    },
    {
     "data": {
      "application/vnd.jupyter.widget-view+json": {
       "model_id": "",
       "version_major": 2,
       "version_minor": 0
      },
      "text/plain": [
       "  0%|          | 0/5 [00:00<?, ?it/s]"
      ]
     },
     "metadata": {},
     "output_type": "display_data"
    },
    {
     "name": "stdout",
     "output_type": "stream",
     "text": [
      "[('왁타버스', '2023 왁타버스 뮤직 어워즈'), ('왁타버스', '고멤 가요제'), ('왁타버스', '고멤 아카데미'), ('왁타버스', '왁타버스 고정 멤버'), ('왁타버스', '왁타버스 관련 VR챗 월드'), ('왁타버스', '왁타버스 작곡캠프'), ('왁타버스', '왁타버스/오리지널 곡'), ('왁타버스', '이세계아이돌'), ('왁타버스', '파일/왁타버스'), ('우왁굳/콘텐츠/게임', '우왁굳/콘텐츠/게임/VR챗'), ('우왁굳/콘텐츠/게임', '티바로살래나'), ('우왁굳/콘텐츠/고정 멤버', '고멤 아카데미'), ('우왁굳/콘텐츠/고정 멤버', '왁타버스 고정 멤버'), ('파일/왁타버스', '파일/고멤 아카데미'), ('파일/왁타버스', '파일/왁타버스 고정 멤버'), ('파일/왁타버스', '파일/이세계아이돌')]\n"
     ]
    },
    {
     "data": {
      "application/vnd.jupyter.widget-view+json": {
       "model_id": "",
       "version_major": 2,
       "version_minor": 0
      },
      "text/plain": [
       "  0%|          | 0/16 [00:00<?, ?it/s]"
      ]
     },
     "metadata": {},
     "output_type": "display_data"
    },
    {
     "name": "stdout",
     "output_type": "stream",
     "text": [
      "[('고멤 가요제', '고멤 가요제/노래'), ('고멤 가요제', '고멤 가요제/팀'), ('고멤 가요제', '파일/고멤 가요제'), ('고멤 아카데미', '고멤 아카데미/소속 멤버'), ('고멤 아카데미', '고멤 아카데미/오리지널 곡'), ('고멤 아카데미', '파일/고멤 아카데미'), ('왁타버스 고정 멤버', '왁타버스 고정 멤버/소속 멤버'), ('왁타버스 고정 멤버', '왁타버스 고정 멤버/시즌'), ('왁타버스 고정 멤버', '왁타버스 고정 멤버/오리지널 곡'), ('왁타버스 고정 멤버', '파일/왁타버스 고정 멤버'), ('왁타버스/오리지널 곡', '고멤 아카데미/오리지널 곡'), ('왁타버스/오리지널 곡', '왁타버스 고정 멤버/오리지널 곡'), ('왁타버스/오리지널 곡', '이세계아이돌/오리지널 곡'), ('이세계아이돌', '이세계아이돌/2차 창작'), ('이세계아이돌', '고세구'), ('이세계아이돌', '이세계아이돌/공연 및 행사'), ('이세계아이돌', '둘러보기 틀/이세계아이돌'), ('이세계아이돌', '릴파'), ('이세계아이돌', '마법소녀 이세계아이돌'), ('이세계아이돌', '비챤'), ('이세계아이돌', '아이네'), ('이세계아이돌', '이세계아이돌/오리지널 곡'), ('이세계아이돌', '이세계아이돌/음반'), ('이세계아이돌', '이파리'), ('이세계아이돌', '주르르'), ('이세계아이돌', '징버거'), ('이세계아이돌', '차원을 넘어 이세계아이돌'), ('이세계아이돌', '파일/이세계아이돌'), ('우왁굳/콘텐츠/게임/VR챗', '2023 왁타버스 뮤직 어워즈'), ('우왁굳/콘텐츠/게임/VR챗', '고멤 가요제'), ('파일/이세계아이돌', '파일/고세구'), ('파일/이세계아이돌', '파일/릴파'), ('파일/이세계아이돌', '파일/비챤'), ('파일/이세계아이돌', '파일/아이네'), ('파일/이세계아이돌', '파일/주르르'), ('파일/이세계아이돌', '파일/징버거')]\n"
     ]
    },
    {
     "data": {
      "application/vnd.jupyter.widget-view+json": {
       "model_id": "",
       "version_major": 2,
       "version_minor": 0
      },
      "text/plain": [
       "  0%|          | 0/36 [00:00<?, ?it/s]"
      ]
     },
     "metadata": {},
     "output_type": "display_data"
    },
    {
     "name": "stdout",
     "output_type": "stream",
     "text": [
      "[('왁타버스 고정 멤버/오리지널 곡', '고멤 가요제/노래'), ('고세구', 'TOUR'), ('고세구', '파일/고세구'), ('이세계아이돌/공연 및 행사', 'TOUR'), ('릴파', '파일/릴파'), ('마법소녀 이세계아이돌', '마법소녀 이세계아이돌/등장인물'), ('비챤', '파일/비챤'), ('아이네', '파일/아이네'), ('주르르', '파일/주르르'), ('징버거', '파일/징버거'), ('차원을 넘어 이세계아이돌', '차원을 넘어 이세계아이돌/등장인물')]\n"
     ]
    },
    {
     "data": {
      "application/vnd.jupyter.widget-view+json": {
       "model_id": "",
       "version_major": 2,
       "version_minor": 0
      },
      "text/plain": [
       "  0%|          | 0/11 [00:00<?, ?it/s]"
      ]
     },
     "metadata": {},
     "output_type": "display_data"
    },
    {
     "name": "stdout",
     "output_type": "stream",
     "text": [
      "[]\n"
     ]
    }
   ],
   "source": [
    "tree = {}\n",
    "next_keys = [(\"root\", \"우왁굳\")]\n",
    "\n",
    "while len(next_keys) > 0:\n",
    "    keys = next_keys\n",
    "    next_keys = []\n",
    "\n",
    "    for parents, key in tqdm(keys, leave=False):\n",
    "        if key in tree:\n",
    "            continue\n",
    "        soup = BeautifulSoup(requests.get(base_url + \"/w/분류:\" + key).text, 'html.parser')\n",
    "\n",
    "        subcategory = soup.select_one(\"#category-분류\")\n",
    "        subdocs = soup.select_one(\"#category-문서\")\n",
    "        subform = soup.select_one(\"#category-틀\")\n",
    "        \n",
    "        subcategory = [] if subcategory is None else [tag.get_attribute_list(\"title\")[0].split(\":\", 1)[-1] for tag in subcategory.select(\"a\")]\n",
    "        subdocs = [] if subdocs is None else [tag.get_attribute_list(\"title\")[0] for tag in subdocs.select(\"a\")]\n",
    "        subform = [] if subform is None else [tag.get_attribute_list(\"title\")[0].split(\":\", 1)[-1] for tag in subform.select(\"a\")]\n",
    "\n",
    "        node = make_tree_node(key, parents, subcategory, subdocs, subform)\n",
    "        tree[key] = node\n",
    "        # print(key, children)\n",
    "    \n",
    "        next_keys += [(key, sc) for sc in subcategory]\n",
    "\n",
    "    print(next_keys)"
   ]
  },
  {
   "cell_type": "code",
   "execution_count": 4,
   "id": "bc518504-6cf1-4f20-b177-b6f0b10af29d",
   "metadata": {},
   "outputs": [
    {
     "data": {
      "text/plain": [
       "53"
      ]
     },
     "execution_count": 4,
     "metadata": {},
     "output_type": "execute_result"
    }
   ],
   "source": [
    "len(tree)"
   ]
  },
  {
   "cell_type": "code",
   "execution_count": 5,
   "id": "9db7a0c9-571e-4ed0-9224-edd85893bb5f",
   "metadata": {},
   "outputs": [
    {
     "data": {
      "text/plain": [
       "{'title': '아이네',\n",
       " 'url': 'https://namu.wiki/w/%EB%B6%84%EB%A5%98%3A%EC%95%84%EC%9D%B4%EB%84%A4',\n",
       " 'parents': '이세계아이돌',\n",
       " 'subcategory': ['파일/아이네'],\n",
       " 'subdocs': ['고멤 가요제 MASHUP',\n",
       "  '구구의 날',\n",
       "  '둘기(아이네)',\n",
       "  '아이네',\n",
       "  '아이네 아프리카TV 데뷔 콘서트',\n",
       "  '아이네(ISOLATE DIABOLOS)',\n",
       "  '아이네(마법소녀 이세계아이돌)',\n",
       "  '아이네(마법소녀 이세계아이돌)/작중 행적',\n",
       "  '아이네(차원을 넘어 이세계아이돌)',\n",
       "  '아이네/오리지널 곡',\n",
       "  '아이네/음반',\n",
       "  '아이네/콘서트',\n",
       "  '없는계절',\n",
       "  '햄이네 락페스티벌'],\n",
       " 'subform': ['아이네', '아이네/노래', '아이네/방송 역사']}"
      ]
     },
     "execution_count": 5,
     "metadata": {},
     "output_type": "execute_result"
    }
   ],
   "source": [
    "tree['아이네']"
   ]
  },
  {
   "cell_type": "markdown",
   "id": "e2e61b97-a0c2-448b-bd90-f7aeab8e8ff2",
   "metadata": {},
   "source": [
    "## test"
   ]
  },
  {
   "cell_type": "code",
   "execution_count": 97,
   "id": "22e351a6-fd23-4f90-8989-72f3ff68da61",
   "metadata": {},
   "outputs": [],
   "source": [
    "def set_a_href(tag):\n",
    "    for a_tag in tag.select(\"a\"):\n",
    "        if not a_tag['href'].startswith(\"#\"):\n",
    "            a_tag['href'] = parse.unquote(a_tag['href']).replace(\" \", \"%20\")\n",
    "    \n",
    "    # wiki-fn-content # 주석\n",
    "    for a_tag in tag.select(\"a.wiki-fn-content\"):\n",
    "        # print(a_tag.get(\"href\", \"#\")[1:])\n",
    "        footnote_text = footnote_dict.get(a_tag.get(\"href\", \"#\")[1:])\n",
    "        if footnote_text is not None:\n",
    "            a_tag['title'] = footnote_text\n",
    "        # print(a_tag, \"\\n\")\n",
    "        \n",
    "    # wiki-link-external # 외부링크\n",
    "    # pass\n",
    "    \n",
    "    # wiki-link-internal # 내부링크\n",
    "    for a_tag in tag.select(\"a.wiki-link-internal\"):\n",
    "        if (\n",
    "            a_tag.get(\"href\") is not None \n",
    "            and not a_tag['href'].startswith(base_url)\n",
    "        ):\n",
    "            if not a_tag['href'].startswith(\"#\"):\n",
    "                a_tag['href'] = base_url + a_tag['href']\n",
    "            else:\n",
    "                # print(a_tag['href'])\n",
    "                pass\n",
    "\n",
    "    \n",
    "    return tag"
   ]
  },
  {
   "cell_type": "code",
   "execution_count": 98,
   "id": "b51d4cd6-b1c6-4071-b7f8-b53ed05c9027",
   "metadata": {
    "scrolled": true
   },
   "outputs": [],
   "source": [
    "soup = BeautifulSoup(requests.get(base_url + \"/w/\" + '우왁굳').text, 'html.parser')\n",
    "# soup.select('body')"
   ]
  },
  {
   "cell_type": "markdown",
   "id": "98ea3f6c-0099-4e95-9ac6-4cc1e0e66faa",
   "metadata": {},
   "source": [
    "### footnote list"
   ]
  },
  {
   "cell_type": "code",
   "execution_count": 99,
   "id": "7fb0edf8-f819-402b-a774-4910ea754d6b",
   "metadata": {
    "scrolled": true
   },
   "outputs": [],
   "source": [
    "from markdownify import markdownify as md\n",
    "\n",
    "footnote_list = soup.select('.footnote-list')\n",
    "\n",
    "footnote_dict = {\n",
    "    elm.select_one(\"span\").get(\"id\"): md(str(set_a_href(elm)))\n",
    "    for i, elm in enumerate(footnote_list)\n",
    "}"
   ]
  },
  {
   "cell_type": "markdown",
   "id": "edc89855-0bc2-437b-8b36-8427e01735a0",
   "metadata": {},
   "source": [
    "### head, content"
   ]
  },
  {
   "cell_type": "code",
   "execution_count": 100,
   "id": "bf30b0d3-bded-4cf1-ab47-8cd05d3d941e",
   "metadata": {},
   "outputs": [
    {
     "name": "stdout",
     "output_type": "stream",
     "text": [
      "23 23\n"
     ]
    }
   ],
   "source": [
    "head = soup.select('.wiki-heading')\n",
    "content = soup.select('.wiki-heading-content')\n",
    "print(len(head), len(content))"
   ]
  },
  {
   "cell_type": "code",
   "execution_count": 102,
   "id": "a80d1bf4-69c4-4e2b-b114-620af54d2c59",
   "metadata": {
    "scrolled": true
   },
   "outputs": [
    {
     "name": "stdout",
     "output_type": "stream",
     "text": [
      "### [8.1.](#toc) 사생활 관련[[편집]](/edit/우왁굳?section=22)\n",
      "\n",
      "\n",
      "* 어릴 적에 [재믹스](https://namu.wiki/w/재믹스(게임기) \"재믹스(게임기)\")와 [슈퍼 패미컴](https://namu.wiki/w/슈퍼%20패미컴 \"슈퍼 패미컴\")을 소유하고 있었다고 한다.\n",
      "\n",
      "* 2018년 3월 방송 중 시청자들에게 부모님 집 대출금을 자신이 오늘 다 갚았다며 어머니가 좋아하셨다며 시청자들에게 감사를 표했다.\n",
      "\n",
      "* MBTI 검사를 여러 번 받았으며 매번 다른 결과가 나왔다고 한다. 내향 척도는 늘 변하지 않았다고.\n",
      "\n",
      "* 자동차를 좋아하며 그 중에서도 [BMW](https://namu.wiki/w/BMW \"BMW\")를 열렬히 좋아한다. BMW 코리아 25주년 기념으로 출시된 BMW M340i 페리도트 그린 에디션을 소유하고 있다고 밝혔다. 자동차에 관해서 다양한 지식이 있으나 자신이 좋아하는 자동차 브랜드에만 관심이 있어서 [포르쉐 919](https://namu.wiki/w/포르쉐%20919%20하이브리드 \"포르쉐 919 하이브리드\")를 [911](https://namu.wiki/w/포르쉐%20911 \"포르쉐 911\")이라고 부르거나, [아우디 스포트 콰트로](https://namu.wiki/w/아우디%20스포트%20콰트로 \"아우디 스포트 콰트로\")[[66]](#fn-66 \"[[66]](#rfn-66) 랠리 경기에 사륜구동을 정착시키고, [그룹 B](https://namu.wiki/w/그룹%20B \\\"그룹 B\\\")의 초창기를 휩쓴 전설적인 레이스카.\")에 대한 지식이 얕다.\n",
      "\n",
      "* [이니셜D](https://namu.wiki/w/이니셜D \"이니셜D\") 한정 씹덕이라고 한다. [[67]](#fn-67 \"[[67]](#rfn-67) 그렇게 주장했으나 정작 Fifth/Final/Extra Stage의 존재는 2024년 2월까지도 모르고 있었다. \")\n",
      "\n",
      "* 피곤할 때 잠들면 해괴한 신음을 내는 버릇이 있다. 그래서 엔젤의 왁트모르즈비 대리 방송 때 핀잔을 먹기도 했다.\n",
      "\n",
      "* 동아일보에서 주관하는 정치성향 테스트를 한 적이 있다. 첫 번째 문항은 모두 응답했지만 사회적 이슈에 대한 의견을 묻는 두 번째 문항에서 답변을 주저하다 결국 테스트를 중단했다. 첫 번째 문항의 우왁굳의 응답은 중도 보수에서 보수로 결과가 나온다.\n",
      "\n",
      "* 주량은 소주 1병.\n",
      "\n",
      "* 뱅갈고무나무를 키우고 있다. [#](https://youtu.be/SYB7mEpzjQ0 \"https://youtu.be/SYB7mEpzjQ0\")\n",
      "\n",
      "* 인천동산고등학교, 오사카산업대학교 출신이다 [임박사의 일본가자 2006년 입학실적](http://www.gotojapan.co.kr/results.htm \"http://www.gotojapan.co.kr/results.htm\")\n",
      "\n",
      "* 일본 유학 생활 시절에 매우 가난했다고 한다. 사용하던 노트북은 저사양 게임만 돌아갔으며 3층 2.8평 원룸에서 살았다고 한다. 심지어 창문을 열면 자동차가 지나 다니는 다리가 보였고, 보던 TV도 남이 버린 [브라운관](https://namu.wiki/w/브라운관 \"브라운관\") TV를 주운 것이라고 밝혔다.\n",
      "\n",
      "* 오사카에서 유학을 다녀서 그런지 일본어를 구사할 때 칸사이벤을 자주 사용하는 편이다. 유튜브에 돌아다니는 우왁굳의 일본어 클립에서 쉽게 확인할 수 있다.\n",
      "\n",
      "* 카톡에 아내인 엔젤의 이름을 '겅든님'으로 저장했다고 한다.\n",
      "\n",
      "* 2022년 10월 27일 [엔젤님의 인스타그램을 통해 득녀 소식을 발표](https://www.instagram.com/p/CkM9iYap5j0 \"https://www.instagram.com/p/CkM9iYap5j0\")했으며, 소식을 알렸을 당시 25주가 되어 7개월차에 접어들었다고 한다. 결혼 약 5년차에 얻은 첫 자녀. [우왁굳의 시청자들](https://namu.wiki/w/침팬치 \"침팬치\")은 우왁굳의 딸의 별명을 **'그분**'이라고 부른다.\n",
      "\n",
      "* 2023년 1월 15일 새벽 초늦뱅에서 산후 조리원과 추후 아이에게도 활용할 목적으로 [아이패드](https://namu.wiki/w/아이패드 \"아이패드\")와 [갤럭시 탭 S](https://namu.wiki/w/갤럭시%20탭%20S \"갤럭시 탭 S\") 중에서 시청자와 함께 고민하다가 [갤럭시 탭 S8 Ultra](https://namu.wiki/w/갤럭시%20탭%20S8%20Ultra \"갤럭시 탭 S8 Ultra\")를 선택하였고, [쿠팡](https://namu.wiki/w/쿠팡 \"쿠팡\")에서 구입하여 15일 저녁에 당일 배송 받은 사실을 알렸다.[[68]](#fn-68 \"[[68]](#rfn-68) 우왁굳이 실제로 한 말로, 본인은 나이가 먹어서 전혀 설레거나 하지 않을 줄 알았으나 막상 탭을 받아보니 두근대고 설레더라는 말을 하여 ㄱㅇㅇ라는 채팅이 많이 올라왔다.\")\n",
      "\n",
      "* 2023년 1월 17일 새벽 4시쯤 엔젤이 밝힌 바에 따르면 우왁굳은 삼성 휴대폰을 쓰지만 삼성 페이는 안 쓴다고 한다.\n",
      "\n",
      "* 2023년 2월 5일 오전 9시 40분경, 자신의 인스타그램 스토리를 통해 딸의 출생을 알렸다.[[사진]](#fn-사진 \"[[사진]](#rfn-69) ![왁딸](//i.namu.wiki/i/S8UxKCZPPG2bODjXwXamsCWBxpbxmbMXJcReuS36jGUB7gppB7XH6E0nS_J6cE9mDT-mRPlP9MHclH9Ls7StHbJgtYlr5GSJrB3cNtOCcShTcZbGEJSmbF4GnVzgkDxuk9pTa6UC15y9RJVz9I5g7A.webp)\")\n",
      "\n",
      "* 2023년 6월 10일 이가 깨져서 임플란트를 받았다고 한다. 10대~20대쯤에 신경치료를 받은 이가 시간이 지날수록 점차 균열이 일어나다가 삼겹살을 먹다가 깨졌다고 했다.\n",
      "\n",
      "* 피부색이 [어두운 편이다.](https://namu.wiki/w/갈색%20피부 \"갈색 피부\")\n",
      "\n",
      "\n"
     ]
    }
   ],
   "source": [
    "from markdownify import markdownify as md\n",
    "\n",
    "i = 21\n",
    "\n",
    "# for i in range(len(head)):\n",
    "#     head[i] = set_a_href(head[i])\n",
    "#     content[i] = set_a_href(content[i])\n",
    "head[i] = set_a_href(head[i])\n",
    "content[i] = set_a_href(content[i])\n",
    "\n",
    "print(md(str(head[i])))\n",
    "print(md(str(content[i])))\n",
    "\n",
    "# print(\"\\n\", \"=\" * 50, \"\\n\")\n",
    "\n",
    "# print(head[i], \"\\n\")\n",
    "# print(content[i])\n"
   ]
  },
  {
   "cell_type": "code",
   "execution_count": 9,
   "id": "00a799ee-a2af-4071-beb2-3ce15147b87a",
   "metadata": {},
   "outputs": [],
   "source": [
    "text = \"\"\n",
    "\n",
    "for h, c in zip(head, content):\n",
    "    h = set_a_href(h)\n",
    "    c = set_a_href(c)\n",
    "    text += md(str(h)) + \"\\n\"\n",
    "    text += md(str(c)) + \"\\n\"\n",
    "\n",
    "\n",
    "with open(\"test.md\", \"w\", encoding=\"utf-8\") as f:\n",
    "    f.write(text)"
   ]
  },
  {
   "cell_type": "markdown",
   "id": "dc9954f9-3eb2-4c18-9e52-6581f988d598",
   "metadata": {},
   "source": [
    "### table"
   ]
  },
  {
   "cell_type": "code",
   "execution_count": 55,
   "id": "f41f983d-730b-4961-a7fb-6b3e653ce376",
   "metadata": {},
   "outputs": [],
   "source": [
    "tables = soup.select(\"table.wiki-table\")\n",
    "# print(md(str(tables[4])))"
   ]
  },
  {
   "cell_type": "markdown",
   "id": "16211550-bd5b-4d4a-9024-dde8a5ee9941",
   "metadata": {
    "jp-MarkdownHeadingCollapsed": true
   },
   "source": [
    "## draw graph"
   ]
  },
  {
   "cell_type": "code",
   "execution_count": 25,
   "id": "9eb3a22d-0041-4896-88be-3e52418cd275",
   "metadata": {},
   "outputs": [
    {
     "data": {
      "image/png": "[encoded data removed]",
      "text/plain": [
       "<Figure size 640x480 with 1 Axes>"
      ]
     },
     "metadata": {},
     "output_type": "display_data"
    }
   ],
   "source": [
    "import pydot\n",
    "import matplotlib.pyplot as plt\n",
    "import matplotlib.image as img\n",
    "\n",
    "graph = pydot.Dot(graph_type='graph', charset=\"UTF-8\", fontname=\"malgun\")\n",
    "\n",
    "for node in tree.values():\n",
    "    for sub in node['subcategory']:\n",
    "        graph.add_edge(pydot.Edge(node['title'], sub, color=\"blue\"))\n",
    "    for sub in node['subdocs']:\n",
    "        graph.add_edge(pydot.Edge(node['title'], sub, color=\"green\"))\n",
    "    for sub in node['subform']:\n",
    "        graph.add_edge(pydot.Edge(node['title'], sub, color=\"red\"))\n",
    "\n",
    "graph.write_png('./graph.png')\n",
    "\n",
    "img_test = img.imread('./graph.png')\n",
    "plt.imshow(img_test)\n",
    "plt.show()"
   ]
  }
 ],
 "metadata": {
  "kernelspec": {
   "display_name": "Python 3 (ipykernel)",
   "language": "python",
   "name": "python3"
  },
  "language_info": {
   "codemirror_mode": {
    "name": "ipython",
    "version": 3
   },
   "file_extension": ".py",
   "mimetype": "text/x-python",
   "name": "python",
   "nbconvert_exporter": "python",
   "pygments_lexer": "ipython3",
   "version": "3.9.16"
  }
 },
 "nbformat": 4,
 "nbformat_minor": 5
}
